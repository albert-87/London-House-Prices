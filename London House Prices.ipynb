{
 "cells": [
  {
   "cell_type": "code",
   "execution_count": 617,
   "id": "4f126d64",
   "metadata": {
    "scrolled": false
   },
   "outputs": [
    {
     "name": "stdout",
     "output_type": "stream",
     "text": [
      "Requirement already satisfied: requests in /Users/albertsam87/opt/anaconda3/lib/python3.9/site-packages (2.28.1)\n",
      "Requirement already satisfied: urllib3<1.27,>=1.21.1 in /Users/albertsam87/opt/anaconda3/lib/python3.9/site-packages (from requests) (1.26.11)\n",
      "Requirement already satisfied: idna<4,>=2.5 in /Users/albertsam87/opt/anaconda3/lib/python3.9/site-packages (from requests) (3.3)\n",
      "Requirement already satisfied: charset-normalizer<3,>=2 in /Users/albertsam87/opt/anaconda3/lib/python3.9/site-packages (from requests) (2.0.4)\n",
      "Requirement already satisfied: certifi>=2017.4.17 in /Users/albertsam87/opt/anaconda3/lib/python3.9/site-packages (from requests) (2022.9.24)\n",
      "Note: you may need to restart the kernel to use updated packages.\n"
     ]
    }
   ],
   "source": [
    "pip install requests"
   ]
  },
  {
   "cell_type": "code",
   "execution_count": 618,
   "id": "c43275ee",
   "metadata": {},
   "outputs": [
    {
     "name": "stdout",
     "output_type": "stream",
     "text": [
      "Requirement already satisfied: geopy in /Users/albertsam87/opt/anaconda3/lib/python3.9/site-packages (2.3.0)\n",
      "Requirement already satisfied: geographiclib<3,>=1.52 in /Users/albertsam87/opt/anaconda3/lib/python3.9/site-packages (from geopy) (2.0)\n",
      "Note: you may need to restart the kernel to use updated packages.\n"
     ]
    }
   ],
   "source": [
    "pip install geopy"
   ]
  },
  {
   "cell_type": "markdown",
   "id": "55fee3cf",
   "metadata": {},
   "source": [
    "# Predicting house prices in London"
   ]
  },
  {
   "cell_type": "markdown",
   "id": "b9d99426",
   "metadata": {},
   "source": [
    " ## Objective\n",
    " \n",
    " 1. Understand factors that impact house prices in London. \n",
    " 2. Predict house price based on the 'London.csv' dataset. This is a Regression problem."
   ]
  },
  {
   "cell_type": "markdown",
   "id": "31b192bc",
   "metadata": {},
   "source": [
    "## Import Libaries"
   ]
  },
  {
   "cell_type": "code",
   "execution_count": 619,
   "id": "6eb183e4",
   "metadata": {},
   "outputs": [],
   "source": [
    "import pandas as pd\n",
    "import numpy as np\n",
    "import requests"
   ]
  },
  {
   "cell_type": "markdown",
   "id": "da9ff19e",
   "metadata": {},
   "source": [
    "## Import data "
   ]
  },
  {
   "cell_type": "code",
   "execution_count": 620,
   "id": "ae291622",
   "metadata": {},
   "outputs": [],
   "source": [
    "# import london house price dataset\n",
    "data = pd.read_csv('London.csv')"
   ]
  },
  {
   "cell_type": "code",
   "execution_count": 621,
   "id": "3a39f677",
   "metadata": {},
   "outputs": [
    {
     "data": {
      "text/html": [
       "<div>\n",
       "<style scoped>\n",
       "    .dataframe tbody tr th:only-of-type {\n",
       "        vertical-align: middle;\n",
       "    }\n",
       "\n",
       "    .dataframe tbody tr th {\n",
       "        vertical-align: top;\n",
       "    }\n",
       "\n",
       "    .dataframe thead th {\n",
       "        text-align: right;\n",
       "    }\n",
       "</style>\n",
       "<table border=\"1\" class=\"dataframe\">\n",
       "  <thead>\n",
       "    <tr style=\"text-align: right;\">\n",
       "      <th></th>\n",
       "      <th>Unnamed: 0</th>\n",
       "      <th>Property Name</th>\n",
       "      <th>Price</th>\n",
       "      <th>House Type</th>\n",
       "      <th>Area in sq ft</th>\n",
       "      <th>No. of Bedrooms</th>\n",
       "      <th>No. of Bathrooms</th>\n",
       "      <th>No. of Receptions</th>\n",
       "      <th>Location</th>\n",
       "      <th>City/County</th>\n",
       "      <th>Postal Code</th>\n",
       "    </tr>\n",
       "  </thead>\n",
       "  <tbody>\n",
       "    <tr>\n",
       "      <th>0</th>\n",
       "      <td>0</td>\n",
       "      <td>Queens Road</td>\n",
       "      <td>1675000</td>\n",
       "      <td>House</td>\n",
       "      <td>2716</td>\n",
       "      <td>5</td>\n",
       "      <td>5</td>\n",
       "      <td>5</td>\n",
       "      <td>Wimbledon</td>\n",
       "      <td>London</td>\n",
       "      <td>SW19 8NY</td>\n",
       "    </tr>\n",
       "    <tr>\n",
       "      <th>1</th>\n",
       "      <td>1</td>\n",
       "      <td>Seward Street</td>\n",
       "      <td>650000</td>\n",
       "      <td>Flat / Apartment</td>\n",
       "      <td>814</td>\n",
       "      <td>2</td>\n",
       "      <td>2</td>\n",
       "      <td>2</td>\n",
       "      <td>Clerkenwell</td>\n",
       "      <td>London</td>\n",
       "      <td>EC1V 3PA</td>\n",
       "    </tr>\n",
       "    <tr>\n",
       "      <th>2</th>\n",
       "      <td>2</td>\n",
       "      <td>Hotham Road</td>\n",
       "      <td>735000</td>\n",
       "      <td>Flat / Apartment</td>\n",
       "      <td>761</td>\n",
       "      <td>2</td>\n",
       "      <td>2</td>\n",
       "      <td>2</td>\n",
       "      <td>Putney</td>\n",
       "      <td>London</td>\n",
       "      <td>SW15 1QL</td>\n",
       "    </tr>\n",
       "    <tr>\n",
       "      <th>3</th>\n",
       "      <td>3</td>\n",
       "      <td>Festing Road</td>\n",
       "      <td>1765000</td>\n",
       "      <td>House</td>\n",
       "      <td>1986</td>\n",
       "      <td>4</td>\n",
       "      <td>4</td>\n",
       "      <td>4</td>\n",
       "      <td>Putney</td>\n",
       "      <td>London</td>\n",
       "      <td>SW15 1LP</td>\n",
       "    </tr>\n",
       "    <tr>\n",
       "      <th>4</th>\n",
       "      <td>4</td>\n",
       "      <td>Spencer Walk</td>\n",
       "      <td>675000</td>\n",
       "      <td>Flat / Apartment</td>\n",
       "      <td>700</td>\n",
       "      <td>2</td>\n",
       "      <td>2</td>\n",
       "      <td>2</td>\n",
       "      <td>Putney</td>\n",
       "      <td>London</td>\n",
       "      <td>SW15 1PL</td>\n",
       "    </tr>\n",
       "  </tbody>\n",
       "</table>\n",
       "</div>"
      ],
      "text/plain": [
       "   Unnamed: 0  Property Name    Price        House Type  Area in sq ft  \\\n",
       "0           0    Queens Road  1675000             House           2716   \n",
       "1           1  Seward Street   650000  Flat / Apartment            814   \n",
       "2           2    Hotham Road   735000  Flat / Apartment            761   \n",
       "3           3   Festing Road  1765000             House           1986   \n",
       "4           4   Spencer Walk   675000  Flat / Apartment            700   \n",
       "\n",
       "   No. of Bedrooms  No. of Bathrooms  No. of Receptions     Location  \\\n",
       "0                5                 5                  5    Wimbledon   \n",
       "1                2                 2                  2  Clerkenwell   \n",
       "2                2                 2                  2       Putney   \n",
       "3                4                 4                  4       Putney   \n",
       "4                2                 2                  2       Putney   \n",
       "\n",
       "  City/County Postal Code  \n",
       "0      London    SW19 8NY  \n",
       "1      London    EC1V 3PA  \n",
       "2      London    SW15 1QL  \n",
       "3      London    SW15 1LP  \n",
       "4      London    SW15 1PL  "
      ]
     },
     "execution_count": 621,
     "metadata": {},
     "output_type": "execute_result"
    }
   ],
   "source": [
    "data.head()"
   ]
  },
  {
   "cell_type": "code",
   "execution_count": 622,
   "id": "b7d3832e",
   "metadata": {
    "scrolled": true
   },
   "outputs": [
    {
     "data": {
      "text/plain": [
       "(3480, 11)"
      ]
     },
     "execution_count": 622,
     "metadata": {},
     "output_type": "execute_result"
    }
   ],
   "source": [
    "data.shape"
   ]
  },
  {
   "cell_type": "markdown",
   "id": "15b9ed54",
   "metadata": {},
   "source": [
    "We can see that there are 3480 rows and 11 columns in our data set"
   ]
  },
  {
   "cell_type": "code",
   "execution_count": 623,
   "id": "d1b10e03",
   "metadata": {
    "scrolled": true
   },
   "outputs": [
    {
     "data": {
      "text/html": [
       "<div>\n",
       "<style scoped>\n",
       "    .dataframe tbody tr th:only-of-type {\n",
       "        vertical-align: middle;\n",
       "    }\n",
       "\n",
       "    .dataframe tbody tr th {\n",
       "        vertical-align: top;\n",
       "    }\n",
       "\n",
       "    .dataframe thead th {\n",
       "        text-align: right;\n",
       "    }\n",
       "</style>\n",
       "<table border=\"1\" class=\"dataframe\">\n",
       "  <thead>\n",
       "    <tr style=\"text-align: right;\">\n",
       "      <th></th>\n",
       "      <th>Unnamed: 0</th>\n",
       "      <th>Price</th>\n",
       "      <th>Area in sq ft</th>\n",
       "      <th>No. of Bedrooms</th>\n",
       "      <th>No. of Bathrooms</th>\n",
       "      <th>No. of Receptions</th>\n",
       "    </tr>\n",
       "  </thead>\n",
       "  <tbody>\n",
       "    <tr>\n",
       "      <th>count</th>\n",
       "      <td>3480.000000</td>\n",
       "      <td>3.480000e+03</td>\n",
       "      <td>3480.000000</td>\n",
       "      <td>3480.000000</td>\n",
       "      <td>3480.000000</td>\n",
       "      <td>3480.000000</td>\n",
       "    </tr>\n",
       "    <tr>\n",
       "      <th>mean</th>\n",
       "      <td>1739.500000</td>\n",
       "      <td>1.864173e+06</td>\n",
       "      <td>1712.973563</td>\n",
       "      <td>3.103736</td>\n",
       "      <td>3.103736</td>\n",
       "      <td>3.103736</td>\n",
       "    </tr>\n",
       "    <tr>\n",
       "      <th>std</th>\n",
       "      <td>1004.733796</td>\n",
       "      <td>2.267283e+06</td>\n",
       "      <td>1364.259351</td>\n",
       "      <td>1.517698</td>\n",
       "      <td>1.517698</td>\n",
       "      <td>1.517698</td>\n",
       "    </tr>\n",
       "    <tr>\n",
       "      <th>min</th>\n",
       "      <td>0.000000</td>\n",
       "      <td>1.800000e+05</td>\n",
       "      <td>274.000000</td>\n",
       "      <td>0.000000</td>\n",
       "      <td>0.000000</td>\n",
       "      <td>0.000000</td>\n",
       "    </tr>\n",
       "    <tr>\n",
       "      <th>25%</th>\n",
       "      <td>869.750000</td>\n",
       "      <td>7.500000e+05</td>\n",
       "      <td>834.000000</td>\n",
       "      <td>2.000000</td>\n",
       "      <td>2.000000</td>\n",
       "      <td>2.000000</td>\n",
       "    </tr>\n",
       "    <tr>\n",
       "      <th>50%</th>\n",
       "      <td>1739.500000</td>\n",
       "      <td>1.220000e+06</td>\n",
       "      <td>1310.000000</td>\n",
       "      <td>3.000000</td>\n",
       "      <td>3.000000</td>\n",
       "      <td>3.000000</td>\n",
       "    </tr>\n",
       "    <tr>\n",
       "      <th>75%</th>\n",
       "      <td>2609.250000</td>\n",
       "      <td>2.150000e+06</td>\n",
       "      <td>2157.250000</td>\n",
       "      <td>4.000000</td>\n",
       "      <td>4.000000</td>\n",
       "      <td>4.000000</td>\n",
       "    </tr>\n",
       "    <tr>\n",
       "      <th>max</th>\n",
       "      <td>3479.000000</td>\n",
       "      <td>3.975000e+07</td>\n",
       "      <td>15405.000000</td>\n",
       "      <td>10.000000</td>\n",
       "      <td>10.000000</td>\n",
       "      <td>10.000000</td>\n",
       "    </tr>\n",
       "  </tbody>\n",
       "</table>\n",
       "</div>"
      ],
      "text/plain": [
       "        Unnamed: 0         Price  Area in sq ft  No. of Bedrooms  \\\n",
       "count  3480.000000  3.480000e+03    3480.000000      3480.000000   \n",
       "mean   1739.500000  1.864173e+06    1712.973563         3.103736   \n",
       "std    1004.733796  2.267283e+06    1364.259351         1.517698   \n",
       "min       0.000000  1.800000e+05     274.000000         0.000000   \n",
       "25%     869.750000  7.500000e+05     834.000000         2.000000   \n",
       "50%    1739.500000  1.220000e+06    1310.000000         3.000000   \n",
       "75%    2609.250000  2.150000e+06    2157.250000         4.000000   \n",
       "max    3479.000000  3.975000e+07   15405.000000        10.000000   \n",
       "\n",
       "       No. of Bathrooms  No. of Receptions  \n",
       "count       3480.000000        3480.000000  \n",
       "mean           3.103736           3.103736  \n",
       "std            1.517698           1.517698  \n",
       "min            0.000000           0.000000  \n",
       "25%            2.000000           2.000000  \n",
       "50%            3.000000           3.000000  \n",
       "75%            4.000000           4.000000  \n",
       "max           10.000000          10.000000  "
      ]
     },
     "execution_count": 623,
     "metadata": {},
     "output_type": "execute_result"
    }
   ],
   "source": [
    "data.describe()"
   ]
  },
  {
   "cell_type": "markdown",
   "id": "2b62be7f",
   "metadata": {},
   "source": [
    "We see some info about our data i.e. minimum number of bedrooms is 0 and maximum is 10. On average the properties have 3.1 bedrooms. "
   ]
  },
  {
   "cell_type": "code",
   "execution_count": 624,
   "id": "598a41c7",
   "metadata": {},
   "outputs": [
    {
     "data": {
      "text/plain": [
       "Unnamed: 0            int64\n",
       "Property Name        object\n",
       "Price                 int64\n",
       "House Type           object\n",
       "Area in sq ft         int64\n",
       "No. of Bedrooms       int64\n",
       "No. of Bathrooms      int64\n",
       "No. of Receptions     int64\n",
       "Location             object\n",
       "City/County          object\n",
       "Postal Code          object\n",
       "dtype: object"
      ]
     },
     "execution_count": 624,
     "metadata": {},
     "output_type": "execute_result"
    }
   ],
   "source": [
    "data.dtypes"
   ]
  },
  {
   "cell_type": "markdown",
   "id": "3aa344bd",
   "metadata": {},
   "source": [
    "We can see a combination intergers and strings/objects in our dataset"
   ]
  },
  {
   "cell_type": "code",
   "execution_count": 625,
   "id": "52b45564",
   "metadata": {
    "scrolled": true
   },
   "outputs": [
    {
     "name": "stdout",
     "output_type": "stream",
     "text": [
      "<class 'pandas.core.frame.DataFrame'>\n",
      "RangeIndex: 3480 entries, 0 to 3479\n",
      "Data columns (total 11 columns):\n",
      " #   Column             Non-Null Count  Dtype \n",
      "---  ------             --------------  ----- \n",
      " 0   Unnamed: 0         3480 non-null   int64 \n",
      " 1   Property Name      3480 non-null   object\n",
      " 2   Price              3480 non-null   int64 \n",
      " 3   House Type         3480 non-null   object\n",
      " 4   Area in sq ft      3480 non-null   int64 \n",
      " 5   No. of Bedrooms    3480 non-null   int64 \n",
      " 6   No. of Bathrooms   3480 non-null   int64 \n",
      " 7   No. of Receptions  3480 non-null   int64 \n",
      " 8   Location           2518 non-null   object\n",
      " 9   City/County        3480 non-null   object\n",
      " 10  Postal Code        3480 non-null   object\n",
      "dtypes: int64(6), object(5)\n",
      "memory usage: 299.2+ KB\n"
     ]
    }
   ],
   "source": [
    "data.info()"
   ]
  },
  {
   "cell_type": "code",
   "execution_count": 626,
   "id": "03faf3c4",
   "metadata": {},
   "outputs": [
    {
     "data": {
      "text/plain": [
       "Unnamed: 0             0\n",
       "Property Name          0\n",
       "Price                  0\n",
       "House Type             0\n",
       "Area in sq ft          0\n",
       "No. of Bedrooms        0\n",
       "No. of Bathrooms       0\n",
       "No. of Receptions      0\n",
       "Location             962\n",
       "City/County            0\n",
       "Postal Code            0\n",
       "dtype: int64"
      ]
     },
     "execution_count": 626,
     "metadata": {},
     "output_type": "execute_result"
    }
   ],
   "source": [
    "# check number of null values\n",
    "data.isnull().sum()"
   ]
  },
  {
   "cell_type": "markdown",
   "id": "5dceb93f",
   "metadata": {},
   "source": [
    "We see that 962 of the Locations are null."
   ]
  },
  {
   "cell_type": "markdown",
   "id": "40a17aa5",
   "metadata": {},
   "source": [
    "## Data Wrangling"
   ]
  },
  {
   "cell_type": "code",
   "execution_count": 627,
   "id": "15b9b882",
   "metadata": {},
   "outputs": [],
   "source": [
    "# We rename the unnamed column and asssign to a new DataFrame\n",
    "df = data.rename(columns={'Unnamed: 0': 'Id'})"
   ]
  },
  {
   "cell_type": "code",
   "execution_count": 628,
   "id": "aee0f1fb",
   "metadata": {},
   "outputs": [
    {
     "data": {
      "text/html": [
       "<div>\n",
       "<style scoped>\n",
       "    .dataframe tbody tr th:only-of-type {\n",
       "        vertical-align: middle;\n",
       "    }\n",
       "\n",
       "    .dataframe tbody tr th {\n",
       "        vertical-align: top;\n",
       "    }\n",
       "\n",
       "    .dataframe thead th {\n",
       "        text-align: right;\n",
       "    }\n",
       "</style>\n",
       "<table border=\"1\" class=\"dataframe\">\n",
       "  <thead>\n",
       "    <tr style=\"text-align: right;\">\n",
       "      <th></th>\n",
       "      <th>Id</th>\n",
       "      <th>Property Name</th>\n",
       "      <th>Price</th>\n",
       "      <th>House Type</th>\n",
       "      <th>Area in sq ft</th>\n",
       "      <th>No. of Bedrooms</th>\n",
       "      <th>No. of Bathrooms</th>\n",
       "      <th>No. of Receptions</th>\n",
       "      <th>Location</th>\n",
       "      <th>City/County</th>\n",
       "      <th>Postal Code</th>\n",
       "    </tr>\n",
       "  </thead>\n",
       "  <tbody>\n",
       "    <tr>\n",
       "      <th>0</th>\n",
       "      <td>0</td>\n",
       "      <td>Queens Road</td>\n",
       "      <td>1675000</td>\n",
       "      <td>House</td>\n",
       "      <td>2716</td>\n",
       "      <td>5</td>\n",
       "      <td>5</td>\n",
       "      <td>5</td>\n",
       "      <td>Wimbledon</td>\n",
       "      <td>London</td>\n",
       "      <td>SW19 8NY</td>\n",
       "    </tr>\n",
       "    <tr>\n",
       "      <th>1</th>\n",
       "      <td>1</td>\n",
       "      <td>Seward Street</td>\n",
       "      <td>650000</td>\n",
       "      <td>Flat / Apartment</td>\n",
       "      <td>814</td>\n",
       "      <td>2</td>\n",
       "      <td>2</td>\n",
       "      <td>2</td>\n",
       "      <td>Clerkenwell</td>\n",
       "      <td>London</td>\n",
       "      <td>EC1V 3PA</td>\n",
       "    </tr>\n",
       "    <tr>\n",
       "      <th>2</th>\n",
       "      <td>2</td>\n",
       "      <td>Hotham Road</td>\n",
       "      <td>735000</td>\n",
       "      <td>Flat / Apartment</td>\n",
       "      <td>761</td>\n",
       "      <td>2</td>\n",
       "      <td>2</td>\n",
       "      <td>2</td>\n",
       "      <td>Putney</td>\n",
       "      <td>London</td>\n",
       "      <td>SW15 1QL</td>\n",
       "    </tr>\n",
       "    <tr>\n",
       "      <th>3</th>\n",
       "      <td>3</td>\n",
       "      <td>Festing Road</td>\n",
       "      <td>1765000</td>\n",
       "      <td>House</td>\n",
       "      <td>1986</td>\n",
       "      <td>4</td>\n",
       "      <td>4</td>\n",
       "      <td>4</td>\n",
       "      <td>Putney</td>\n",
       "      <td>London</td>\n",
       "      <td>SW15 1LP</td>\n",
       "    </tr>\n",
       "    <tr>\n",
       "      <th>4</th>\n",
       "      <td>4</td>\n",
       "      <td>Spencer Walk</td>\n",
       "      <td>675000</td>\n",
       "      <td>Flat / Apartment</td>\n",
       "      <td>700</td>\n",
       "      <td>2</td>\n",
       "      <td>2</td>\n",
       "      <td>2</td>\n",
       "      <td>Putney</td>\n",
       "      <td>London</td>\n",
       "      <td>SW15 1PL</td>\n",
       "    </tr>\n",
       "  </tbody>\n",
       "</table>\n",
       "</div>"
      ],
      "text/plain": [
       "   Id  Property Name    Price        House Type  Area in sq ft  \\\n",
       "0   0    Queens Road  1675000             House           2716   \n",
       "1   1  Seward Street   650000  Flat / Apartment            814   \n",
       "2   2    Hotham Road   735000  Flat / Apartment            761   \n",
       "3   3   Festing Road  1765000             House           1986   \n",
       "4   4   Spencer Walk   675000  Flat / Apartment            700   \n",
       "\n",
       "   No. of Bedrooms  No. of Bathrooms  No. of Receptions     Location  \\\n",
       "0                5                 5                  5    Wimbledon   \n",
       "1                2                 2                  2  Clerkenwell   \n",
       "2                2                 2                  2       Putney   \n",
       "3                4                 4                  4       Putney   \n",
       "4                2                 2                  2       Putney   \n",
       "\n",
       "  City/County Postal Code  \n",
       "0      London    SW19 8NY  \n",
       "1      London    EC1V 3PA  \n",
       "2      London    SW15 1QL  \n",
       "3      London    SW15 1LP  \n",
       "4      London    SW15 1PL  "
      ]
     },
     "execution_count": 628,
     "metadata": {},
     "output_type": "execute_result"
    }
   ],
   "source": [
    "df.head()"
   ]
  },
  {
   "cell_type": "code",
   "execution_count": 629,
   "id": "8c900ecb",
   "metadata": {},
   "outputs": [],
   "source": [
    "df = df.drop(['Id', 'Property Name', 'Location'], axis=1)"
   ]
  },
  {
   "cell_type": "markdown",
   "id": "2ff2a84a",
   "metadata": {},
   "source": [
    "Since 1/3 of our locations are null we will drop this column.\n",
    "We are not interested in the 'property name' or the 'Id' as it does not impact price of a house, so we will drop this too.\n"
   ]
  },
  {
   "cell_type": "code",
   "execution_count": 630,
   "id": "bd2e8f45",
   "metadata": {},
   "outputs": [
    {
     "data": {
      "text/html": [
       "<div>\n",
       "<style scoped>\n",
       "    .dataframe tbody tr th:only-of-type {\n",
       "        vertical-align: middle;\n",
       "    }\n",
       "\n",
       "    .dataframe tbody tr th {\n",
       "        vertical-align: top;\n",
       "    }\n",
       "\n",
       "    .dataframe thead th {\n",
       "        text-align: right;\n",
       "    }\n",
       "</style>\n",
       "<table border=\"1\" class=\"dataframe\">\n",
       "  <thead>\n",
       "    <tr style=\"text-align: right;\">\n",
       "      <th></th>\n",
       "      <th>Price</th>\n",
       "      <th>House Type</th>\n",
       "      <th>Area in sq ft</th>\n",
       "      <th>No. of Bedrooms</th>\n",
       "      <th>No. of Bathrooms</th>\n",
       "      <th>No. of Receptions</th>\n",
       "      <th>City/County</th>\n",
       "      <th>Postal Code</th>\n",
       "    </tr>\n",
       "  </thead>\n",
       "  <tbody>\n",
       "    <tr>\n",
       "      <th>0</th>\n",
       "      <td>1675000</td>\n",
       "      <td>House</td>\n",
       "      <td>2716</td>\n",
       "      <td>5</td>\n",
       "      <td>5</td>\n",
       "      <td>5</td>\n",
       "      <td>London</td>\n",
       "      <td>SW19 8NY</td>\n",
       "    </tr>\n",
       "    <tr>\n",
       "      <th>1</th>\n",
       "      <td>650000</td>\n",
       "      <td>Flat / Apartment</td>\n",
       "      <td>814</td>\n",
       "      <td>2</td>\n",
       "      <td>2</td>\n",
       "      <td>2</td>\n",
       "      <td>London</td>\n",
       "      <td>EC1V 3PA</td>\n",
       "    </tr>\n",
       "    <tr>\n",
       "      <th>2</th>\n",
       "      <td>735000</td>\n",
       "      <td>Flat / Apartment</td>\n",
       "      <td>761</td>\n",
       "      <td>2</td>\n",
       "      <td>2</td>\n",
       "      <td>2</td>\n",
       "      <td>London</td>\n",
       "      <td>SW15 1QL</td>\n",
       "    </tr>\n",
       "    <tr>\n",
       "      <th>3</th>\n",
       "      <td>1765000</td>\n",
       "      <td>House</td>\n",
       "      <td>1986</td>\n",
       "      <td>4</td>\n",
       "      <td>4</td>\n",
       "      <td>4</td>\n",
       "      <td>London</td>\n",
       "      <td>SW15 1LP</td>\n",
       "    </tr>\n",
       "    <tr>\n",
       "      <th>4</th>\n",
       "      <td>675000</td>\n",
       "      <td>Flat / Apartment</td>\n",
       "      <td>700</td>\n",
       "      <td>2</td>\n",
       "      <td>2</td>\n",
       "      <td>2</td>\n",
       "      <td>London</td>\n",
       "      <td>SW15 1PL</td>\n",
       "    </tr>\n",
       "  </tbody>\n",
       "</table>\n",
       "</div>"
      ],
      "text/plain": [
       "     Price        House Type  Area in sq ft  No. of Bedrooms  \\\n",
       "0  1675000             House           2716                5   \n",
       "1   650000  Flat / Apartment            814                2   \n",
       "2   735000  Flat / Apartment            761                2   \n",
       "3  1765000             House           1986                4   \n",
       "4   675000  Flat / Apartment            700                2   \n",
       "\n",
       "   No. of Bathrooms  No. of Receptions City/County Postal Code  \n",
       "0                 5                  5      London    SW19 8NY  \n",
       "1                 2                  2      London    EC1V 3PA  \n",
       "2                 2                  2      London    SW15 1QL  \n",
       "3                 4                  4      London    SW15 1LP  \n",
       "4                 2                  2      London    SW15 1PL  "
      ]
     },
     "execution_count": 630,
     "metadata": {},
     "output_type": "execute_result"
    }
   ],
   "source": [
    "df.head()"
   ]
  },
  {
   "cell_type": "markdown",
   "id": "af87b815",
   "metadata": {},
   "source": [
    "We create 'Price in (million)' column to make analysis easier "
   ]
  },
  {
   "cell_type": "code",
   "execution_count": 631,
   "id": "b4577888",
   "metadata": {},
   "outputs": [],
   "source": [
    "df['Price (million)'] = df['Price']/1000000"
   ]
  },
  {
   "cell_type": "code",
   "execution_count": 632,
   "id": "7c74c542",
   "metadata": {
    "scrolled": true
   },
   "outputs": [
    {
     "data": {
      "text/html": [
       "<div>\n",
       "<style scoped>\n",
       "    .dataframe tbody tr th:only-of-type {\n",
       "        vertical-align: middle;\n",
       "    }\n",
       "\n",
       "    .dataframe tbody tr th {\n",
       "        vertical-align: top;\n",
       "    }\n",
       "\n",
       "    .dataframe thead th {\n",
       "        text-align: right;\n",
       "    }\n",
       "</style>\n",
       "<table border=\"1\" class=\"dataframe\">\n",
       "  <thead>\n",
       "    <tr style=\"text-align: right;\">\n",
       "      <th></th>\n",
       "      <th>Price</th>\n",
       "      <th>House Type</th>\n",
       "      <th>Area in sq ft</th>\n",
       "      <th>No. of Bedrooms</th>\n",
       "      <th>No. of Bathrooms</th>\n",
       "      <th>No. of Receptions</th>\n",
       "      <th>City/County</th>\n",
       "      <th>Postal Code</th>\n",
       "      <th>Price (million)</th>\n",
       "    </tr>\n",
       "  </thead>\n",
       "  <tbody>\n",
       "    <tr>\n",
       "      <th>0</th>\n",
       "      <td>1675000</td>\n",
       "      <td>House</td>\n",
       "      <td>2716</td>\n",
       "      <td>5</td>\n",
       "      <td>5</td>\n",
       "      <td>5</td>\n",
       "      <td>London</td>\n",
       "      <td>SW19 8NY</td>\n",
       "      <td>1.675</td>\n",
       "    </tr>\n",
       "    <tr>\n",
       "      <th>1</th>\n",
       "      <td>650000</td>\n",
       "      <td>Flat / Apartment</td>\n",
       "      <td>814</td>\n",
       "      <td>2</td>\n",
       "      <td>2</td>\n",
       "      <td>2</td>\n",
       "      <td>London</td>\n",
       "      <td>EC1V 3PA</td>\n",
       "      <td>0.650</td>\n",
       "    </tr>\n",
       "    <tr>\n",
       "      <th>2</th>\n",
       "      <td>735000</td>\n",
       "      <td>Flat / Apartment</td>\n",
       "      <td>761</td>\n",
       "      <td>2</td>\n",
       "      <td>2</td>\n",
       "      <td>2</td>\n",
       "      <td>London</td>\n",
       "      <td>SW15 1QL</td>\n",
       "      <td>0.735</td>\n",
       "    </tr>\n",
       "    <tr>\n",
       "      <th>3</th>\n",
       "      <td>1765000</td>\n",
       "      <td>House</td>\n",
       "      <td>1986</td>\n",
       "      <td>4</td>\n",
       "      <td>4</td>\n",
       "      <td>4</td>\n",
       "      <td>London</td>\n",
       "      <td>SW15 1LP</td>\n",
       "      <td>1.765</td>\n",
       "    </tr>\n",
       "    <tr>\n",
       "      <th>4</th>\n",
       "      <td>675000</td>\n",
       "      <td>Flat / Apartment</td>\n",
       "      <td>700</td>\n",
       "      <td>2</td>\n",
       "      <td>2</td>\n",
       "      <td>2</td>\n",
       "      <td>London</td>\n",
       "      <td>SW15 1PL</td>\n",
       "      <td>0.675</td>\n",
       "    </tr>\n",
       "  </tbody>\n",
       "</table>\n",
       "</div>"
      ],
      "text/plain": [
       "     Price        House Type  Area in sq ft  No. of Bedrooms  \\\n",
       "0  1675000             House           2716                5   \n",
       "1   650000  Flat / Apartment            814                2   \n",
       "2   735000  Flat / Apartment            761                2   \n",
       "3  1765000             House           1986                4   \n",
       "4   675000  Flat / Apartment            700                2   \n",
       "\n",
       "   No. of Bathrooms  No. of Receptions City/County Postal Code  \\\n",
       "0                 5                  5      London    SW19 8NY   \n",
       "1                 2                  2      London    EC1V 3PA   \n",
       "2                 2                  2      London    SW15 1QL   \n",
       "3                 4                  4      London    SW15 1LP   \n",
       "4                 2                  2      London    SW15 1PL   \n",
       "\n",
       "   Price (million)  \n",
       "0            1.675  \n",
       "1            0.650  \n",
       "2            0.735  \n",
       "3            1.765  \n",
       "4            0.675  "
      ]
     },
     "execution_count": 632,
     "metadata": {},
     "output_type": "execute_result"
    }
   ],
   "source": [
    "df.head()"
   ]
  },
  {
   "cell_type": "code",
   "execution_count": 633,
   "id": "5447cab7",
   "metadata": {},
   "outputs": [
    {
     "data": {
      "text/html": [
       "<div>\n",
       "<style scoped>\n",
       "    .dataframe tbody tr th:only-of-type {\n",
       "        vertical-align: middle;\n",
       "    }\n",
       "\n",
       "    .dataframe tbody tr th {\n",
       "        vertical-align: top;\n",
       "    }\n",
       "\n",
       "    .dataframe thead th {\n",
       "        text-align: right;\n",
       "    }\n",
       "</style>\n",
       "<table border=\"1\" class=\"dataframe\">\n",
       "  <thead>\n",
       "    <tr style=\"text-align: right;\">\n",
       "      <th></th>\n",
       "      <th>No. of Bedrooms</th>\n",
       "      <th>No. of Bathrooms</th>\n",
       "      <th>No. of Receptions</th>\n",
       "    </tr>\n",
       "  </thead>\n",
       "  <tbody>\n",
       "    <tr>\n",
       "      <th>0</th>\n",
       "      <td>5</td>\n",
       "      <td>5</td>\n",
       "      <td>5</td>\n",
       "    </tr>\n",
       "    <tr>\n",
       "      <th>1</th>\n",
       "      <td>2</td>\n",
       "      <td>2</td>\n",
       "      <td>2</td>\n",
       "    </tr>\n",
       "    <tr>\n",
       "      <th>2</th>\n",
       "      <td>2</td>\n",
       "      <td>2</td>\n",
       "      <td>2</td>\n",
       "    </tr>\n",
       "    <tr>\n",
       "      <th>3</th>\n",
       "      <td>4</td>\n",
       "      <td>4</td>\n",
       "      <td>4</td>\n",
       "    </tr>\n",
       "    <tr>\n",
       "      <th>4</th>\n",
       "      <td>2</td>\n",
       "      <td>2</td>\n",
       "      <td>2</td>\n",
       "    </tr>\n",
       "    <tr>\n",
       "      <th>...</th>\n",
       "      <td>...</td>\n",
       "      <td>...</td>\n",
       "      <td>...</td>\n",
       "    </tr>\n",
       "    <tr>\n",
       "      <th>3475</th>\n",
       "      <td>3</td>\n",
       "      <td>3</td>\n",
       "      <td>3</td>\n",
       "    </tr>\n",
       "    <tr>\n",
       "      <th>3476</th>\n",
       "      <td>3</td>\n",
       "      <td>3</td>\n",
       "      <td>3</td>\n",
       "    </tr>\n",
       "    <tr>\n",
       "      <th>3477</th>\n",
       "      <td>6</td>\n",
       "      <td>6</td>\n",
       "      <td>6</td>\n",
       "    </tr>\n",
       "    <tr>\n",
       "      <th>3478</th>\n",
       "      <td>3</td>\n",
       "      <td>3</td>\n",
       "      <td>3</td>\n",
       "    </tr>\n",
       "    <tr>\n",
       "      <th>3479</th>\n",
       "      <td>6</td>\n",
       "      <td>6</td>\n",
       "      <td>6</td>\n",
       "    </tr>\n",
       "  </tbody>\n",
       "</table>\n",
       "<p>3480 rows × 3 columns</p>\n",
       "</div>"
      ],
      "text/plain": [
       "      No. of Bedrooms  No. of Bathrooms  No. of Receptions\n",
       "0                   5                 5                  5\n",
       "1                   2                 2                  2\n",
       "2                   2                 2                  2\n",
       "3                   4                 4                  4\n",
       "4                   2                 2                  2\n",
       "...               ...               ...                ...\n",
       "3475                3                 3                  3\n",
       "3476                3                 3                  3\n",
       "3477                6                 6                  6\n",
       "3478                3                 3                  3\n",
       "3479                6                 6                  6\n",
       "\n",
       "[3480 rows x 3 columns]"
      ]
     },
     "execution_count": 633,
     "metadata": {},
     "output_type": "execute_result"
    }
   ],
   "source": [
    "df[['No. of Bedrooms','No. of Bathrooms','No. of Receptions']]"
   ]
  },
  {
   "cell_type": "markdown",
   "id": "eee7ee3e",
   "metadata": {},
   "source": [
    "We see that there is an issue with the data. \n",
    "Each row has the same number of bedrooms, bathrooms and receptions. \n",
    "Therefor we will delete the no. of bathrooms and receptions columns\n",
    "We will only use number of bedrooms."
   ]
  },
  {
   "cell_type": "code",
   "execution_count": 634,
   "id": "9a04e49b",
   "metadata": {},
   "outputs": [],
   "source": [
    "df = df.drop(['No. of Receptions', 'No. of Bathrooms'], axis=1)"
   ]
  },
  {
   "cell_type": "code",
   "execution_count": 635,
   "id": "9a9ae74c",
   "metadata": {},
   "outputs": [
    {
     "data": {
      "text/html": [
       "<div>\n",
       "<style scoped>\n",
       "    .dataframe tbody tr th:only-of-type {\n",
       "        vertical-align: middle;\n",
       "    }\n",
       "\n",
       "    .dataframe tbody tr th {\n",
       "        vertical-align: top;\n",
       "    }\n",
       "\n",
       "    .dataframe thead th {\n",
       "        text-align: right;\n",
       "    }\n",
       "</style>\n",
       "<table border=\"1\" class=\"dataframe\">\n",
       "  <thead>\n",
       "    <tr style=\"text-align: right;\">\n",
       "      <th></th>\n",
       "      <th>Price</th>\n",
       "      <th>House Type</th>\n",
       "      <th>Area in sq ft</th>\n",
       "      <th>No. of Bedrooms</th>\n",
       "      <th>City/County</th>\n",
       "      <th>Postal Code</th>\n",
       "      <th>Price (million)</th>\n",
       "    </tr>\n",
       "  </thead>\n",
       "  <tbody>\n",
       "    <tr>\n",
       "      <th>0</th>\n",
       "      <td>1675000</td>\n",
       "      <td>House</td>\n",
       "      <td>2716</td>\n",
       "      <td>5</td>\n",
       "      <td>London</td>\n",
       "      <td>SW19 8NY</td>\n",
       "      <td>1.675</td>\n",
       "    </tr>\n",
       "    <tr>\n",
       "      <th>1</th>\n",
       "      <td>650000</td>\n",
       "      <td>Flat / Apartment</td>\n",
       "      <td>814</td>\n",
       "      <td>2</td>\n",
       "      <td>London</td>\n",
       "      <td>EC1V 3PA</td>\n",
       "      <td>0.650</td>\n",
       "    </tr>\n",
       "    <tr>\n",
       "      <th>2</th>\n",
       "      <td>735000</td>\n",
       "      <td>Flat / Apartment</td>\n",
       "      <td>761</td>\n",
       "      <td>2</td>\n",
       "      <td>London</td>\n",
       "      <td>SW15 1QL</td>\n",
       "      <td>0.735</td>\n",
       "    </tr>\n",
       "    <tr>\n",
       "      <th>3</th>\n",
       "      <td>1765000</td>\n",
       "      <td>House</td>\n",
       "      <td>1986</td>\n",
       "      <td>4</td>\n",
       "      <td>London</td>\n",
       "      <td>SW15 1LP</td>\n",
       "      <td>1.765</td>\n",
       "    </tr>\n",
       "    <tr>\n",
       "      <th>4</th>\n",
       "      <td>675000</td>\n",
       "      <td>Flat / Apartment</td>\n",
       "      <td>700</td>\n",
       "      <td>2</td>\n",
       "      <td>London</td>\n",
       "      <td>SW15 1PL</td>\n",
       "      <td>0.675</td>\n",
       "    </tr>\n",
       "  </tbody>\n",
       "</table>\n",
       "</div>"
      ],
      "text/plain": [
       "     Price        House Type  Area in sq ft  No. of Bedrooms City/County  \\\n",
       "0  1675000             House           2716                5      London   \n",
       "1   650000  Flat / Apartment            814                2      London   \n",
       "2   735000  Flat / Apartment            761                2      London   \n",
       "3  1765000             House           1986                4      London   \n",
       "4   675000  Flat / Apartment            700                2      London   \n",
       "\n",
       "  Postal Code  Price (million)  \n",
       "0    SW19 8NY            1.675  \n",
       "1    EC1V 3PA            0.650  \n",
       "2    SW15 1QL            0.735  \n",
       "3    SW15 1LP            1.765  \n",
       "4    SW15 1PL            0.675  "
      ]
     },
     "execution_count": 635,
     "metadata": {},
     "output_type": "execute_result"
    }
   ],
   "source": [
    "df.head()"
   ]
  },
  {
   "cell_type": "markdown",
   "id": "43fc7cda",
   "metadata": {},
   "source": [
    "Lets take a closer look at the postal code"
   ]
  },
  {
   "cell_type": "code",
   "execution_count": 636,
   "id": "a187c32a",
   "metadata": {
    "scrolled": true
   },
   "outputs": [
    {
     "data": {
      "text/html": [
       "<div>\n",
       "<style scoped>\n",
       "    .dataframe tbody tr th:only-of-type {\n",
       "        vertical-align: middle;\n",
       "    }\n",
       "\n",
       "    .dataframe tbody tr th {\n",
       "        vertical-align: top;\n",
       "    }\n",
       "\n",
       "    .dataframe thead th {\n",
       "        text-align: right;\n",
       "    }\n",
       "</style>\n",
       "<table border=\"1\" class=\"dataframe\">\n",
       "  <thead>\n",
       "    <tr style=\"text-align: right;\">\n",
       "      <th></th>\n",
       "      <th>Price</th>\n",
       "      <th>House Type</th>\n",
       "      <th>Area in sq ft</th>\n",
       "      <th>No. of Bedrooms</th>\n",
       "      <th>City/County</th>\n",
       "      <th>Postal Code</th>\n",
       "      <th>Price (million)</th>\n",
       "      <th>Postcode 2</th>\n",
       "    </tr>\n",
       "  </thead>\n",
       "  <tbody>\n",
       "    <tr>\n",
       "      <th>0</th>\n",
       "      <td>1675000</td>\n",
       "      <td>House</td>\n",
       "      <td>2716</td>\n",
       "      <td>5</td>\n",
       "      <td>London</td>\n",
       "      <td>SW19 8NY</td>\n",
       "      <td>1.675</td>\n",
       "      <td>SW</td>\n",
       "    </tr>\n",
       "    <tr>\n",
       "      <th>1</th>\n",
       "      <td>650000</td>\n",
       "      <td>Flat / Apartment</td>\n",
       "      <td>814</td>\n",
       "      <td>2</td>\n",
       "      <td>London</td>\n",
       "      <td>EC1V 3PA</td>\n",
       "      <td>0.650</td>\n",
       "      <td>EC</td>\n",
       "    </tr>\n",
       "    <tr>\n",
       "      <th>2</th>\n",
       "      <td>735000</td>\n",
       "      <td>Flat / Apartment</td>\n",
       "      <td>761</td>\n",
       "      <td>2</td>\n",
       "      <td>London</td>\n",
       "      <td>SW15 1QL</td>\n",
       "      <td>0.735</td>\n",
       "      <td>SW</td>\n",
       "    </tr>\n",
       "    <tr>\n",
       "      <th>3</th>\n",
       "      <td>1765000</td>\n",
       "      <td>House</td>\n",
       "      <td>1986</td>\n",
       "      <td>4</td>\n",
       "      <td>London</td>\n",
       "      <td>SW15 1LP</td>\n",
       "      <td>1.765</td>\n",
       "      <td>SW</td>\n",
       "    </tr>\n",
       "    <tr>\n",
       "      <th>4</th>\n",
       "      <td>675000</td>\n",
       "      <td>Flat / Apartment</td>\n",
       "      <td>700</td>\n",
       "      <td>2</td>\n",
       "      <td>London</td>\n",
       "      <td>SW15 1PL</td>\n",
       "      <td>0.675</td>\n",
       "      <td>SW</td>\n",
       "    </tr>\n",
       "  </tbody>\n",
       "</table>\n",
       "</div>"
      ],
      "text/plain": [
       "     Price        House Type  Area in sq ft  No. of Bedrooms City/County  \\\n",
       "0  1675000             House           2716                5      London   \n",
       "1   650000  Flat / Apartment            814                2      London   \n",
       "2   735000  Flat / Apartment            761                2      London   \n",
       "3  1765000             House           1986                4      London   \n",
       "4   675000  Flat / Apartment            700                2      London   \n",
       "\n",
       "  Postal Code  Price (million) Postcode 2  \n",
       "0    SW19 8NY            1.675         SW  \n",
       "1    EC1V 3PA            0.650         EC  \n",
       "2    SW15 1QL            0.735         SW  \n",
       "3    SW15 1LP            1.765         SW  \n",
       "4    SW15 1PL            0.675         SW  "
      ]
     },
     "execution_count": 636,
     "metadata": {},
     "output_type": "execute_result"
    }
   ],
   "source": [
    "# look at first 2 letters of postal code\n",
    "df['Postcode 2'] = df['Postal Code'].str.slice(stop=2)\n",
    "df.head()"
   ]
  },
  {
   "cell_type": "code",
   "execution_count": 637,
   "id": "692fbeae",
   "metadata": {
    "scrolled": true
   },
   "outputs": [
    {
     "data": {
      "text/plain": [
       "SW    1525\n",
       "NW     256\n",
       "W1     240\n",
       "KT     191\n",
       "N1     145\n",
       "E1     141\n",
       "TW      93\n",
       "EC      92\n",
       "W4      81\n",
       "HA      66\n",
       "SE      65\n",
       "W8      64\n",
       "IG      53\n",
       "W5      42\n",
       "W2      41\n",
       "W9      40\n",
       "E8      40\n",
       "E9      40\n",
       "W6      37\n",
       "N7      36\n",
       "N5      26\n",
       "E2      23\n",
       "WC      21\n",
       "N6      20\n",
       "E3      18\n",
       "W3      16\n",
       "WD      14\n",
       "N4      10\n",
       "CR       9\n",
       "E5       8\n",
       "EN       5\n",
       "N8       4\n",
       "CM       4\n",
       "UB       3\n",
       "N2       3\n",
       "RM       3\n",
       "W7       2\n",
       "E4       1\n",
       "BR       1\n",
       "SM       1\n",
       "Name: Postcode 2, dtype: int64"
      ]
     },
     "execution_count": 637,
     "metadata": {},
     "output_type": "execute_result"
    }
   ],
   "source": [
    "counts = df['Postcode 2'].value_counts(sort=True)\n",
    "counts"
   ]
  },
  {
   "cell_type": "code",
   "execution_count": 638,
   "id": "2d0fa1d1",
   "metadata": {},
   "outputs": [
    {
     "data": {
      "text/plain": [
       "(3480, 8)"
      ]
     },
     "execution_count": 638,
     "metadata": {},
     "output_type": "execute_result"
    }
   ],
   "source": [
    "df.shape"
   ]
  },
  {
   "cell_type": "markdown",
   "id": "2a976dd1",
   "metadata": {},
   "source": [
    "We can see that the 6 most common postcode reagions are SW','NW','W1','KT','N1','E1'.\n",
    "We will use these postcode areas for our analysis as they collectively outnumber the other postcode areas significantly. \n",
    "We can also update the number of areas by updating the code below. "
   ]
  },
  {
   "cell_type": "markdown",
   "id": "b6c04685",
   "metadata": {},
   "source": [
    "## Create new DataFrame for 6 postcode areas"
   ]
  },
  {
   "cell_type": "code",
   "execution_count": 639,
   "id": "c14326c2",
   "metadata": {},
   "outputs": [],
   "source": [
    "# We will look at the 6 most popular postal codes\n",
    "postcodes = ['SW','NW','W1','KT','N1','E1']\n",
    "\n",
    "#create new data frame\n",
    "df2 = df[df['Postcode 2'].isin(postcodes)]"
   ]
  },
  {
   "cell_type": "code",
   "execution_count": 640,
   "id": "f4e96ea2",
   "metadata": {},
   "outputs": [
    {
     "data": {
      "text/html": [
       "<div>\n",
       "<style scoped>\n",
       "    .dataframe tbody tr th:only-of-type {\n",
       "        vertical-align: middle;\n",
       "    }\n",
       "\n",
       "    .dataframe tbody tr th {\n",
       "        vertical-align: top;\n",
       "    }\n",
       "\n",
       "    .dataframe thead th {\n",
       "        text-align: right;\n",
       "    }\n",
       "</style>\n",
       "<table border=\"1\" class=\"dataframe\">\n",
       "  <thead>\n",
       "    <tr style=\"text-align: right;\">\n",
       "      <th></th>\n",
       "      <th>Price</th>\n",
       "      <th>House Type</th>\n",
       "      <th>Area in sq ft</th>\n",
       "      <th>No. of Bedrooms</th>\n",
       "      <th>City/County</th>\n",
       "      <th>Postal Code</th>\n",
       "      <th>Price (million)</th>\n",
       "      <th>Postcode 2</th>\n",
       "    </tr>\n",
       "  </thead>\n",
       "  <tbody>\n",
       "    <tr>\n",
       "      <th>1851</th>\n",
       "      <td>39750000</td>\n",
       "      <td>New development</td>\n",
       "      <td>5623</td>\n",
       "      <td>5</td>\n",
       "      <td>London</td>\n",
       "      <td>W1K 4AB</td>\n",
       "      <td>39.750</td>\n",
       "      <td>W1</td>\n",
       "    </tr>\n",
       "    <tr>\n",
       "      <th>3352</th>\n",
       "      <td>34000000</td>\n",
       "      <td>House</td>\n",
       "      <td>7798</td>\n",
       "      <td>6</td>\n",
       "      <td>London</td>\n",
       "      <td>SW1X 9RU</td>\n",
       "      <td>34.000</td>\n",
       "      <td>SW</td>\n",
       "    </tr>\n",
       "    <tr>\n",
       "      <th>3434</th>\n",
       "      <td>25000000</td>\n",
       "      <td>New development</td>\n",
       "      <td>8356</td>\n",
       "      <td>5</td>\n",
       "      <td>London</td>\n",
       "      <td>SW1A 1LP</td>\n",
       "      <td>25.000</td>\n",
       "      <td>SW</td>\n",
       "    </tr>\n",
       "    <tr>\n",
       "      <th>3420</th>\n",
       "      <td>25000000</td>\n",
       "      <td>House</td>\n",
       "      <td>12435</td>\n",
       "      <td>5</td>\n",
       "      <td>London</td>\n",
       "      <td>NW8 9UJ</td>\n",
       "      <td>25.000</td>\n",
       "      <td>NW</td>\n",
       "    </tr>\n",
       "    <tr>\n",
       "      <th>3306</th>\n",
       "      <td>23950000</td>\n",
       "      <td>New development</td>\n",
       "      <td>15405</td>\n",
       "      <td>7</td>\n",
       "      <td>London</td>\n",
       "      <td>NW11</td>\n",
       "      <td>23.950</td>\n",
       "      <td>NW</td>\n",
       "    </tr>\n",
       "    <tr>\n",
       "      <th>3449</th>\n",
       "      <td>21000000</td>\n",
       "      <td>Penthouse</td>\n",
       "      <td>5417</td>\n",
       "      <td>5</td>\n",
       "      <td>London</td>\n",
       "      <td>SW7 1JF</td>\n",
       "      <td>21.000</td>\n",
       "      <td>SW</td>\n",
       "    </tr>\n",
       "    <tr>\n",
       "      <th>3473</th>\n",
       "      <td>19950000</td>\n",
       "      <td>Flat / Apartment</td>\n",
       "      <td>3698</td>\n",
       "      <td>5</td>\n",
       "      <td>London</td>\n",
       "      <td>W1K 7AJ</td>\n",
       "      <td>19.950</td>\n",
       "      <td>W1</td>\n",
       "    </tr>\n",
       "    <tr>\n",
       "      <th>2789</th>\n",
       "      <td>19450000</td>\n",
       "      <td>Flat / Apartment</td>\n",
       "      <td>4699</td>\n",
       "      <td>5</td>\n",
       "      <td>London</td>\n",
       "      <td>SW1X 0AD</td>\n",
       "      <td>19.450</td>\n",
       "      <td>SW</td>\n",
       "    </tr>\n",
       "    <tr>\n",
       "      <th>3299</th>\n",
       "      <td>19000000</td>\n",
       "      <td>House</td>\n",
       "      <td>6796</td>\n",
       "      <td>7</td>\n",
       "      <td>London</td>\n",
       "      <td>SW1X 8RN</td>\n",
       "      <td>19.000</td>\n",
       "      <td>SW</td>\n",
       "    </tr>\n",
       "    <tr>\n",
       "      <th>3218</th>\n",
       "      <td>18950000</td>\n",
       "      <td>Flat / Apartment</td>\n",
       "      <td>3541</td>\n",
       "      <td>4</td>\n",
       "      <td>London</td>\n",
       "      <td>W1K 6LE</td>\n",
       "      <td>18.950</td>\n",
       "      <td>W1</td>\n",
       "    </tr>\n",
       "    <tr>\n",
       "      <th>3251</th>\n",
       "      <td>18500000</td>\n",
       "      <td>House</td>\n",
       "      <td>8603</td>\n",
       "      <td>6</td>\n",
       "      <td>London</td>\n",
       "      <td>W1G 6BF</td>\n",
       "      <td>18.500</td>\n",
       "      <td>W1</td>\n",
       "    </tr>\n",
       "    <tr>\n",
       "      <th>353</th>\n",
       "      <td>18000000</td>\n",
       "      <td>House</td>\n",
       "      <td>8315</td>\n",
       "      <td>7</td>\n",
       "      <td>London</td>\n",
       "      <td>W1K 2NP</td>\n",
       "      <td>18.000</td>\n",
       "      <td>W1</td>\n",
       "    </tr>\n",
       "    <tr>\n",
       "      <th>1999</th>\n",
       "      <td>17950000</td>\n",
       "      <td>New development</td>\n",
       "      <td>5880</td>\n",
       "      <td>5</td>\n",
       "      <td>London</td>\n",
       "      <td>SW3 2AH</td>\n",
       "      <td>17.950</td>\n",
       "      <td>SW</td>\n",
       "    </tr>\n",
       "    <tr>\n",
       "      <th>3089</th>\n",
       "      <td>17950000</td>\n",
       "      <td>House</td>\n",
       "      <td>14358</td>\n",
       "      <td>7</td>\n",
       "      <td>London</td>\n",
       "      <td>NW11 6TL</td>\n",
       "      <td>17.950</td>\n",
       "      <td>NW</td>\n",
       "    </tr>\n",
       "    <tr>\n",
       "      <th>3400</th>\n",
       "      <td>16000000</td>\n",
       "      <td>Flat / Apartment</td>\n",
       "      <td>3486</td>\n",
       "      <td>3</td>\n",
       "      <td>London</td>\n",
       "      <td>W1S 4HY</td>\n",
       "      <td>16.000</td>\n",
       "      <td>W1</td>\n",
       "    </tr>\n",
       "    <tr>\n",
       "      <th>381</th>\n",
       "      <td>15950000</td>\n",
       "      <td>House</td>\n",
       "      <td>4090</td>\n",
       "      <td>4</td>\n",
       "      <td>London</td>\n",
       "      <td>SW3 2ED</td>\n",
       "      <td>15.950</td>\n",
       "      <td>SW</td>\n",
       "    </tr>\n",
       "    <tr>\n",
       "      <th>3309</th>\n",
       "      <td>15495000</td>\n",
       "      <td>House</td>\n",
       "      <td>6359</td>\n",
       "      <td>7</td>\n",
       "      <td>London</td>\n",
       "      <td>SW3 2AE</td>\n",
       "      <td>15.495</td>\n",
       "      <td>SW</td>\n",
       "    </tr>\n",
       "    <tr>\n",
       "      <th>2286</th>\n",
       "      <td>15000000</td>\n",
       "      <td>New development</td>\n",
       "      <td>6333</td>\n",
       "      <td>4</td>\n",
       "      <td>London</td>\n",
       "      <td>SW10 9UZ</td>\n",
       "      <td>15.000</td>\n",
       "      <td>SW</td>\n",
       "    </tr>\n",
       "    <tr>\n",
       "      <th>3009</th>\n",
       "      <td>14850000</td>\n",
       "      <td>House</td>\n",
       "      <td>7800</td>\n",
       "      <td>6</td>\n",
       "      <td>London</td>\n",
       "      <td>SW1H 9AA</td>\n",
       "      <td>14.850</td>\n",
       "      <td>SW</td>\n",
       "    </tr>\n",
       "    <tr>\n",
       "      <th>3394</th>\n",
       "      <td>14750000</td>\n",
       "      <td>House</td>\n",
       "      <td>9053</td>\n",
       "      <td>9</td>\n",
       "      <td>London</td>\n",
       "      <td>W1G 6LG</td>\n",
       "      <td>14.750</td>\n",
       "      <td>W1</td>\n",
       "    </tr>\n",
       "    <tr>\n",
       "      <th>3333</th>\n",
       "      <td>14500000</td>\n",
       "      <td>Flat / Apartment</td>\n",
       "      <td>5907</td>\n",
       "      <td>5</td>\n",
       "      <td>London</td>\n",
       "      <td>SW7 3PY</td>\n",
       "      <td>14.500</td>\n",
       "      <td>SW</td>\n",
       "    </tr>\n",
       "    <tr>\n",
       "      <th>3294</th>\n",
       "      <td>14500000</td>\n",
       "      <td>Flat / Apartment</td>\n",
       "      <td>4506</td>\n",
       "      <td>4</td>\n",
       "      <td>London</td>\n",
       "      <td>W1H 6LE</td>\n",
       "      <td>14.500</td>\n",
       "      <td>W1</td>\n",
       "    </tr>\n",
       "    <tr>\n",
       "      <th>3028</th>\n",
       "      <td>14500000</td>\n",
       "      <td>House</td>\n",
       "      <td>7156</td>\n",
       "      <td>6</td>\n",
       "      <td>London</td>\n",
       "      <td>SW3 1LJ</td>\n",
       "      <td>14.500</td>\n",
       "      <td>SW</td>\n",
       "    </tr>\n",
       "    <tr>\n",
       "      <th>1852</th>\n",
       "      <td>14250000</td>\n",
       "      <td>New development</td>\n",
       "      <td>2415</td>\n",
       "      <td>3</td>\n",
       "      <td>London</td>\n",
       "      <td>W1K 4AB</td>\n",
       "      <td>14.250</td>\n",
       "      <td>W1</td>\n",
       "    </tr>\n",
       "    <tr>\n",
       "      <th>3417</th>\n",
       "      <td>13750000</td>\n",
       "      <td>Penthouse</td>\n",
       "      <td>2476</td>\n",
       "      <td>3</td>\n",
       "      <td>London</td>\n",
       "      <td>W1S 3NB</td>\n",
       "      <td>13.750</td>\n",
       "      <td>W1</td>\n",
       "    </tr>\n",
       "    <tr>\n",
       "      <th>3424</th>\n",
       "      <td>13500000</td>\n",
       "      <td>Penthouse</td>\n",
       "      <td>3402</td>\n",
       "      <td>3</td>\n",
       "      <td>London</td>\n",
       "      <td>SW1X 9HB</td>\n",
       "      <td>13.500</td>\n",
       "      <td>SW</td>\n",
       "    </tr>\n",
       "    <tr>\n",
       "      <th>1965</th>\n",
       "      <td>12950000</td>\n",
       "      <td>New development</td>\n",
       "      <td>2840</td>\n",
       "      <td>2</td>\n",
       "      <td>London</td>\n",
       "      <td>W1U 4EJ</td>\n",
       "      <td>12.950</td>\n",
       "      <td>W1</td>\n",
       "    </tr>\n",
       "    <tr>\n",
       "      <th>3378</th>\n",
       "      <td>12950000</td>\n",
       "      <td>House</td>\n",
       "      <td>4693</td>\n",
       "      <td>5</td>\n",
       "      <td>London</td>\n",
       "      <td>NW1 4HJ</td>\n",
       "      <td>12.950</td>\n",
       "      <td>NW</td>\n",
       "    </tr>\n",
       "    <tr>\n",
       "      <th>3253</th>\n",
       "      <td>12750000</td>\n",
       "      <td>House</td>\n",
       "      <td>7526</td>\n",
       "      <td>6</td>\n",
       "      <td>London</td>\n",
       "      <td>W1G 6LG</td>\n",
       "      <td>12.750</td>\n",
       "      <td>W1</td>\n",
       "    </tr>\n",
       "    <tr>\n",
       "      <th>15</th>\n",
       "      <td>12500000</td>\n",
       "      <td>House</td>\n",
       "      <td>4596</td>\n",
       "      <td>6</td>\n",
       "      <td>London</td>\n",
       "      <td>NW1 4ND</td>\n",
       "      <td>12.500</td>\n",
       "      <td>NW</td>\n",
       "    </tr>\n",
       "  </tbody>\n",
       "</table>\n",
       "</div>"
      ],
      "text/plain": [
       "         Price        House Type  Area in sq ft  No. of Bedrooms City/County  \\\n",
       "1851  39750000   New development           5623                5      London   \n",
       "3352  34000000             House           7798                6      London   \n",
       "3434  25000000   New development           8356                5      London   \n",
       "3420  25000000             House          12435                5      London   \n",
       "3306  23950000   New development          15405                7      London   \n",
       "3449  21000000         Penthouse           5417                5      London   \n",
       "3473  19950000  Flat / Apartment           3698                5      London   \n",
       "2789  19450000  Flat / Apartment           4699                5      London   \n",
       "3299  19000000             House           6796                7      London   \n",
       "3218  18950000  Flat / Apartment           3541                4      London   \n",
       "3251  18500000             House           8603                6      London   \n",
       "353   18000000             House           8315                7      London   \n",
       "1999  17950000   New development           5880                5      London   \n",
       "3089  17950000             House          14358                7      London   \n",
       "3400  16000000  Flat / Apartment           3486                3      London   \n",
       "381   15950000             House           4090                4      London   \n",
       "3309  15495000             House           6359                7      London   \n",
       "2286  15000000   New development           6333                4      London   \n",
       "3009  14850000             House           7800                6      London   \n",
       "3394  14750000             House           9053                9      London   \n",
       "3333  14500000  Flat / Apartment           5907                5      London   \n",
       "3294  14500000  Flat / Apartment           4506                4      London   \n",
       "3028  14500000             House           7156                6      London   \n",
       "1852  14250000   New development           2415                3      London   \n",
       "3417  13750000         Penthouse           2476                3      London   \n",
       "3424  13500000         Penthouse           3402                3      London   \n",
       "1965  12950000   New development           2840                2      London   \n",
       "3378  12950000             House           4693                5      London   \n",
       "3253  12750000             House           7526                6      London   \n",
       "15    12500000             House           4596                6      London   \n",
       "\n",
       "     Postal Code  Price (million) Postcode 2  \n",
       "1851     W1K 4AB           39.750         W1  \n",
       "3352    SW1X 9RU           34.000         SW  \n",
       "3434    SW1A 1LP           25.000         SW  \n",
       "3420     NW8 9UJ           25.000         NW  \n",
       "3306        NW11           23.950         NW  \n",
       "3449     SW7 1JF           21.000         SW  \n",
       "3473     W1K 7AJ           19.950         W1  \n",
       "2789    SW1X 0AD           19.450         SW  \n",
       "3299    SW1X 8RN           19.000         SW  \n",
       "3218     W1K 6LE           18.950         W1  \n",
       "3251     W1G 6BF           18.500         W1  \n",
       "353      W1K 2NP           18.000         W1  \n",
       "1999     SW3 2AH           17.950         SW  \n",
       "3089    NW11 6TL           17.950         NW  \n",
       "3400     W1S 4HY           16.000         W1  \n",
       "381      SW3 2ED           15.950         SW  \n",
       "3309     SW3 2AE           15.495         SW  \n",
       "2286    SW10 9UZ           15.000         SW  \n",
       "3009    SW1H 9AA           14.850         SW  \n",
       "3394     W1G 6LG           14.750         W1  \n",
       "3333     SW7 3PY           14.500         SW  \n",
       "3294     W1H 6LE           14.500         W1  \n",
       "3028     SW3 1LJ           14.500         SW  \n",
       "1852     W1K 4AB           14.250         W1  \n",
       "3417     W1S 3NB           13.750         W1  \n",
       "3424    SW1X 9HB           13.500         SW  \n",
       "1965     W1U 4EJ           12.950         W1  \n",
       "3378     NW1 4HJ           12.950         NW  \n",
       "3253     W1G 6LG           12.750         W1  \n",
       "15       NW1 4ND           12.500         NW  "
      ]
     },
     "execution_count": 640,
     "metadata": {},
     "output_type": "execute_result"
    }
   ],
   "source": [
    "df2.sort_values('Price (million)',ascending=False).head(30)"
   ]
  },
  {
   "cell_type": "code",
   "execution_count": 641,
   "id": "7215eb26",
   "metadata": {},
   "outputs": [],
   "source": [
    "# We do not want to include outliers so we limit the data to <= £10 million \n",
    "df2 = df2[df2['Price (million)'] <= 10]"
   ]
  },
  {
   "cell_type": "code",
   "execution_count": 642,
   "id": "a5aea9bb",
   "metadata": {},
   "outputs": [
    {
     "data": {
      "text/plain": [
       "(2461, 8)"
      ]
     },
     "execution_count": 642,
     "metadata": {},
     "output_type": "execute_result"
    }
   ],
   "source": [
    "df2.shape"
   ]
  },
  {
   "cell_type": "code",
   "execution_count": 643,
   "id": "79cdfb0a",
   "metadata": {
    "scrolled": true
   },
   "outputs": [
    {
     "data": {
      "text/plain": [
       "London                      2225\n",
       "Surrey                       188\n",
       "Thurleigh Road                 7\n",
       "Fulham                         5\n",
       "Wornington Road                5\n",
       "Marylebone                     4\n",
       "Chelsea                        3\n",
       "Wandsworth                     2\n",
       "Battersea                      2\n",
       "N1 6FU                         1\n",
       "Oxshott                        1\n",
       "London1500                     1\n",
       "Queens Park                    1\n",
       "6 Deal Street                  1\n",
       "110 Battersea Park Road        1\n",
       "Thames Ditton                  1\n",
       "Wimbledon                      1\n",
       "4 Circus Road West             1\n",
       "27 Carlton Drive               1\n",
       "Fitzrovia                      1\n",
       "Fulham High Street             1\n",
       "Spitalfields                   1\n",
       "82-88 Fulham High Street       1\n",
       "Chessington                    1\n",
       "The Metal Works                1\n",
       "Ealing                         1\n",
       "De Beauvoir                    1\n",
       "Holland Park                   1\n",
       "Lillie Square                  1\n",
       "Name: City/County, dtype: int64"
      ]
     },
     "execution_count": 643,
     "metadata": {},
     "output_type": "execute_result"
    }
   ],
   "source": [
    "df2['City/County'].value_counts()"
   ]
  },
  {
   "cell_type": "markdown",
   "id": "ee8aa32f",
   "metadata": {},
   "source": [
    "Also we see that some values in the City/County column have been entered incorrectly. "
   ]
  },
  {
   "cell_type": "code",
   "execution_count": 644,
   "id": "25763054",
   "metadata": {},
   "outputs": [],
   "source": [
    "# We will replace values with count <=7 with the most common value which London.\n",
    "df2['City/County'] = df2['City/County'].apply(lambda x: 'London' if df2['City/County'].value_counts()[x] <= 7 else x)"
   ]
  },
  {
   "cell_type": "code",
   "execution_count": 645,
   "id": "d7585034",
   "metadata": {
    "scrolled": false
   },
   "outputs": [
    {
     "data": {
      "text/plain": [
       "London    2273\n",
       "Surrey     188\n",
       "Name: City/County, dtype: int64"
      ]
     },
     "execution_count": 645,
     "metadata": {},
     "output_type": "execute_result"
    }
   ],
   "source": [
    "df2['City/County'].value_counts()"
   ]
  },
  {
   "cell_type": "code",
   "execution_count": 646,
   "id": "f2a52ad4",
   "metadata": {},
   "outputs": [
    {
     "data": {
      "text/html": [
       "<div>\n",
       "<style scoped>\n",
       "    .dataframe tbody tr th:only-of-type {\n",
       "        vertical-align: middle;\n",
       "    }\n",
       "\n",
       "    .dataframe tbody tr th {\n",
       "        vertical-align: top;\n",
       "    }\n",
       "\n",
       "    .dataframe thead th {\n",
       "        text-align: right;\n",
       "    }\n",
       "</style>\n",
       "<table border=\"1\" class=\"dataframe\">\n",
       "  <thead>\n",
       "    <tr style=\"text-align: right;\">\n",
       "      <th></th>\n",
       "      <th>Price</th>\n",
       "      <th>House Type</th>\n",
       "      <th>Area in sq ft</th>\n",
       "      <th>No. of Bedrooms</th>\n",
       "      <th>City/County</th>\n",
       "      <th>Postal Code</th>\n",
       "      <th>Price (million)</th>\n",
       "      <th>Postcode 2</th>\n",
       "    </tr>\n",
       "  </thead>\n",
       "  <tbody>\n",
       "    <tr>\n",
       "      <th>0</th>\n",
       "      <td>1675000</td>\n",
       "      <td>House</td>\n",
       "      <td>2716</td>\n",
       "      <td>5</td>\n",
       "      <td>London</td>\n",
       "      <td>SW19 8NY</td>\n",
       "      <td>1.675</td>\n",
       "      <td>SW</td>\n",
       "    </tr>\n",
       "    <tr>\n",
       "      <th>2</th>\n",
       "      <td>735000</td>\n",
       "      <td>Flat / Apartment</td>\n",
       "      <td>761</td>\n",
       "      <td>2</td>\n",
       "      <td>London</td>\n",
       "      <td>SW15 1QL</td>\n",
       "      <td>0.735</td>\n",
       "      <td>SW</td>\n",
       "    </tr>\n",
       "    <tr>\n",
       "      <th>3</th>\n",
       "      <td>1765000</td>\n",
       "      <td>House</td>\n",
       "      <td>1986</td>\n",
       "      <td>4</td>\n",
       "      <td>London</td>\n",
       "      <td>SW15 1LP</td>\n",
       "      <td>1.765</td>\n",
       "      <td>SW</td>\n",
       "    </tr>\n",
       "    <tr>\n",
       "      <th>4</th>\n",
       "      <td>675000</td>\n",
       "      <td>Flat / Apartment</td>\n",
       "      <td>700</td>\n",
       "      <td>2</td>\n",
       "      <td>London</td>\n",
       "      <td>SW15 1PL</td>\n",
       "      <td>0.675</td>\n",
       "      <td>SW</td>\n",
       "    </tr>\n",
       "    <tr>\n",
       "      <th>6</th>\n",
       "      <td>1475000</td>\n",
       "      <td>House</td>\n",
       "      <td>1548</td>\n",
       "      <td>4</td>\n",
       "      <td>London</td>\n",
       "      <td>SW11 6NW</td>\n",
       "      <td>1.475</td>\n",
       "      <td>SW</td>\n",
       "    </tr>\n",
       "  </tbody>\n",
       "</table>\n",
       "</div>"
      ],
      "text/plain": [
       "     Price        House Type  Area in sq ft  No. of Bedrooms City/County  \\\n",
       "0  1675000             House           2716                5      London   \n",
       "2   735000  Flat / Apartment            761                2      London   \n",
       "3  1765000             House           1986                4      London   \n",
       "4   675000  Flat / Apartment            700                2      London   \n",
       "6  1475000             House           1548                4      London   \n",
       "\n",
       "  Postal Code  Price (million) Postcode 2  \n",
       "0    SW19 8NY            1.675         SW  \n",
       "2    SW15 1QL            0.735         SW  \n",
       "3    SW15 1LP            1.765         SW  \n",
       "4    SW15 1PL            0.675         SW  \n",
       "6    SW11 6NW            1.475         SW  "
      ]
     },
     "execution_count": 646,
     "metadata": {},
     "output_type": "execute_result"
    }
   ],
   "source": [
    "df2.head()"
   ]
  },
  {
   "cell_type": "markdown",
   "id": "af914b9d",
   "metadata": {},
   "source": [
    "Since we are no longer using 'Price' and 'Postal Code' we will drop now. "
   ]
  },
  {
   "cell_type": "code",
   "execution_count": 647,
   "id": "0933af0d",
   "metadata": {},
   "outputs": [],
   "source": [
    "df2 = df2.drop(['Price','Postal Code'], axis=1)"
   ]
  },
  {
   "cell_type": "markdown",
   "id": "e387903e",
   "metadata": {},
   "source": [
    "We now move target variable 'Price (million)' to end of DataFrame"
   ]
  },
  {
   "cell_type": "code",
   "execution_count": 648,
   "id": "e236cbdc",
   "metadata": {},
   "outputs": [],
   "source": [
    "Price_col = df2.pop('Price (million)')\n",
    "df2.insert(len(df2.columns), 'Price (million)', Price_col)"
   ]
  },
  {
   "cell_type": "markdown",
   "id": "b9341050",
   "metadata": {},
   "source": [
    "Lets see our new DataFrame: \n",
    "1. Postcode has been changed to the region only.\n",
    "2. The only rooms we are now interested in is bedroom. \n",
    "3. Price of property is now in millions."
   ]
  },
  {
   "cell_type": "code",
   "execution_count": 649,
   "id": "d840aceb",
   "metadata": {},
   "outputs": [
    {
     "data": {
      "text/html": [
       "<div>\n",
       "<style scoped>\n",
       "    .dataframe tbody tr th:only-of-type {\n",
       "        vertical-align: middle;\n",
       "    }\n",
       "\n",
       "    .dataframe tbody tr th {\n",
       "        vertical-align: top;\n",
       "    }\n",
       "\n",
       "    .dataframe thead th {\n",
       "        text-align: right;\n",
       "    }\n",
       "</style>\n",
       "<table border=\"1\" class=\"dataframe\">\n",
       "  <thead>\n",
       "    <tr style=\"text-align: right;\">\n",
       "      <th></th>\n",
       "      <th>House Type</th>\n",
       "      <th>Area in sq ft</th>\n",
       "      <th>No. of Bedrooms</th>\n",
       "      <th>City/County</th>\n",
       "      <th>Postcode 2</th>\n",
       "      <th>Price (million)</th>\n",
       "    </tr>\n",
       "  </thead>\n",
       "  <tbody>\n",
       "    <tr>\n",
       "      <th>0</th>\n",
       "      <td>House</td>\n",
       "      <td>2716</td>\n",
       "      <td>5</td>\n",
       "      <td>London</td>\n",
       "      <td>SW</td>\n",
       "      <td>1.675</td>\n",
       "    </tr>\n",
       "    <tr>\n",
       "      <th>2</th>\n",
       "      <td>Flat / Apartment</td>\n",
       "      <td>761</td>\n",
       "      <td>2</td>\n",
       "      <td>London</td>\n",
       "      <td>SW</td>\n",
       "      <td>0.735</td>\n",
       "    </tr>\n",
       "    <tr>\n",
       "      <th>3</th>\n",
       "      <td>House</td>\n",
       "      <td>1986</td>\n",
       "      <td>4</td>\n",
       "      <td>London</td>\n",
       "      <td>SW</td>\n",
       "      <td>1.765</td>\n",
       "    </tr>\n",
       "    <tr>\n",
       "      <th>4</th>\n",
       "      <td>Flat / Apartment</td>\n",
       "      <td>700</td>\n",
       "      <td>2</td>\n",
       "      <td>London</td>\n",
       "      <td>SW</td>\n",
       "      <td>0.675</td>\n",
       "    </tr>\n",
       "    <tr>\n",
       "      <th>6</th>\n",
       "      <td>House</td>\n",
       "      <td>1548</td>\n",
       "      <td>4</td>\n",
       "      <td>London</td>\n",
       "      <td>SW</td>\n",
       "      <td>1.475</td>\n",
       "    </tr>\n",
       "  </tbody>\n",
       "</table>\n",
       "</div>"
      ],
      "text/plain": [
       "         House Type  Area in sq ft  No. of Bedrooms City/County Postcode 2  \\\n",
       "0             House           2716                5      London         SW   \n",
       "2  Flat / Apartment            761                2      London         SW   \n",
       "3             House           1986                4      London         SW   \n",
       "4  Flat / Apartment            700                2      London         SW   \n",
       "6             House           1548                4      London         SW   \n",
       "\n",
       "   Price (million)  \n",
       "0            1.675  \n",
       "2            0.735  \n",
       "3            1.765  \n",
       "4            0.675  \n",
       "6            1.475  "
      ]
     },
     "execution_count": 649,
     "metadata": {},
     "output_type": "execute_result"
    }
   ],
   "source": [
    "df2.head()"
   ]
  },
  {
   "cell_type": "markdown",
   "id": "ddfceb52",
   "metadata": {},
   "source": [
    "Now that the data has been cleaned we will move on to the next stage"
   ]
  },
  {
   "cell_type": "markdown",
   "id": "4b67b7f8",
   "metadata": {},
   "source": [
    "## Exploratory Data analysis "
   ]
  },
  {
   "cell_type": "code",
   "execution_count": 650,
   "id": "cb199689",
   "metadata": {
    "scrolled": true
   },
   "outputs": [
    {
     "data": {
      "text/html": [
       "<div>\n",
       "<style scoped>\n",
       "    .dataframe tbody tr th:only-of-type {\n",
       "        vertical-align: middle;\n",
       "    }\n",
       "\n",
       "    .dataframe tbody tr th {\n",
       "        vertical-align: top;\n",
       "    }\n",
       "\n",
       "    .dataframe thead th {\n",
       "        text-align: right;\n",
       "    }\n",
       "</style>\n",
       "<table border=\"1\" class=\"dataframe\">\n",
       "  <thead>\n",
       "    <tr style=\"text-align: right;\">\n",
       "      <th></th>\n",
       "      <th>Area in sq ft</th>\n",
       "      <th>No. of Bedrooms</th>\n",
       "      <th>Price (million)</th>\n",
       "    </tr>\n",
       "  </thead>\n",
       "  <tbody>\n",
       "    <tr>\n",
       "      <th>count</th>\n",
       "      <td>2461.00000</td>\n",
       "      <td>2461.000000</td>\n",
       "      <td>2461.000000</td>\n",
       "    </tr>\n",
       "    <tr>\n",
       "      <th>mean</th>\n",
       "      <td>1686.72369</td>\n",
       "      <td>3.091833</td>\n",
       "      <td>1.767943</td>\n",
       "    </tr>\n",
       "    <tr>\n",
       "      <th>std</th>\n",
       "      <td>1284.71007</td>\n",
       "      <td>1.489700</td>\n",
       "      <td>1.547126</td>\n",
       "    </tr>\n",
       "    <tr>\n",
       "      <th>min</th>\n",
       "      <td>277.00000</td>\n",
       "      <td>0.000000</td>\n",
       "      <td>0.210000</td>\n",
       "    </tr>\n",
       "    <tr>\n",
       "      <th>25%</th>\n",
       "      <td>850.00000</td>\n",
       "      <td>2.000000</td>\n",
       "      <td>0.775000</td>\n",
       "    </tr>\n",
       "    <tr>\n",
       "      <th>50%</th>\n",
       "      <td>1326.00000</td>\n",
       "      <td>3.000000</td>\n",
       "      <td>1.250000</td>\n",
       "    </tr>\n",
       "    <tr>\n",
       "      <th>75%</th>\n",
       "      <td>2145.00000</td>\n",
       "      <td>4.000000</td>\n",
       "      <td>2.150000</td>\n",
       "    </tr>\n",
       "    <tr>\n",
       "      <th>max</th>\n",
       "      <td>12546.00000</td>\n",
       "      <td>10.000000</td>\n",
       "      <td>10.000000</td>\n",
       "    </tr>\n",
       "  </tbody>\n",
       "</table>\n",
       "</div>"
      ],
      "text/plain": [
       "       Area in sq ft  No. of Bedrooms  Price (million)\n",
       "count     2461.00000      2461.000000      2461.000000\n",
       "mean      1686.72369         3.091833         1.767943\n",
       "std       1284.71007         1.489700         1.547126\n",
       "min        277.00000         0.000000         0.210000\n",
       "25%        850.00000         2.000000         0.775000\n",
       "50%       1326.00000         3.000000         1.250000\n",
       "75%       2145.00000         4.000000         2.150000\n",
       "max      12546.00000        10.000000        10.000000"
      ]
     },
     "execution_count": 650,
     "metadata": {},
     "output_type": "execute_result"
    }
   ],
   "source": [
    "df2.describe()"
   ]
  },
  {
   "cell_type": "code",
   "execution_count": 651,
   "id": "0c0e9ad7",
   "metadata": {},
   "outputs": [
    {
     "name": "stdout",
     "output_type": "stream",
     "text": [
      "<class 'pandas.core.frame.DataFrame'>\n",
      "Int64Index: 2461 entries, 0 to 3478\n",
      "Data columns (total 6 columns):\n",
      " #   Column           Non-Null Count  Dtype  \n",
      "---  ------           --------------  -----  \n",
      " 0   House Type       2461 non-null   object \n",
      " 1   Area in sq ft    2461 non-null   int64  \n",
      " 2   No. of Bedrooms  2461 non-null   int64  \n",
      " 3   City/County      2461 non-null   object \n",
      " 4   Postcode 2       2461 non-null   object \n",
      " 5   Price (million)  2461 non-null   float64\n",
      "dtypes: float64(1), int64(2), object(3)\n",
      "memory usage: 134.6+ KB\n"
     ]
    }
   ],
   "source": [
    "df2.info()"
   ]
  },
  {
   "cell_type": "code",
   "execution_count": 652,
   "id": "d9baf787",
   "metadata": {},
   "outputs": [
    {
     "data": {
      "text/plain": [
       "(2461, 6)"
      ]
     },
     "execution_count": 652,
     "metadata": {},
     "output_type": "execute_result"
    }
   ],
   "source": [
    "df2.shape"
   ]
  },
  {
   "cell_type": "code",
   "execution_count": 653,
   "id": "8a835f7e",
   "metadata": {},
   "outputs": [
    {
     "data": {
      "text/plain": [
       "House Type          object\n",
       "Area in sq ft        int64\n",
       "No. of Bedrooms      int64\n",
       "City/County         object\n",
       "Postcode 2          object\n",
       "Price (million)    float64\n",
       "dtype: object"
      ]
     },
     "execution_count": 653,
     "metadata": {},
     "output_type": "execute_result"
    }
   ],
   "source": [
    "df2.dtypes"
   ]
  },
  {
   "cell_type": "markdown",
   "id": "0b544034",
   "metadata": {},
   "source": [
    "## Data Visualization"
   ]
  },
  {
   "cell_type": "code",
   "execution_count": 654,
   "id": "ba772d9b",
   "metadata": {},
   "outputs": [],
   "source": [
    "# Matplotlib is a plotting library for python and pyplot gives us a MatLab like plotting framework. We will use this in our plotter function to plot data.\n",
    "import matplotlib.pyplot as plt\n",
    "#Seaborn is a Python data visualization library based on matplotlib. It provides a high-level interface for drawing attractive and informative statistical graphics\n",
    "import seaborn as sns"
   ]
  },
  {
   "cell_type": "code",
   "execution_count": 655,
   "id": "a6c4ecad",
   "metadata": {
    "scrolled": true
   },
   "outputs": [
    {
     "data": {
      "text/html": [
       "<div>\n",
       "<style scoped>\n",
       "    .dataframe tbody tr th:only-of-type {\n",
       "        vertical-align: middle;\n",
       "    }\n",
       "\n",
       "    .dataframe tbody tr th {\n",
       "        vertical-align: top;\n",
       "    }\n",
       "\n",
       "    .dataframe thead th {\n",
       "        text-align: right;\n",
       "    }\n",
       "</style>\n",
       "<table border=\"1\" class=\"dataframe\">\n",
       "  <thead>\n",
       "    <tr style=\"text-align: right;\">\n",
       "      <th></th>\n",
       "      <th>House Type</th>\n",
       "      <th>Area in sq ft</th>\n",
       "      <th>No. of Bedrooms</th>\n",
       "      <th>City/County</th>\n",
       "      <th>Postcode 2</th>\n",
       "      <th>Price (million)</th>\n",
       "    </tr>\n",
       "  </thead>\n",
       "  <tbody>\n",
       "    <tr>\n",
       "      <th>0</th>\n",
       "      <td>House</td>\n",
       "      <td>2716</td>\n",
       "      <td>5</td>\n",
       "      <td>London</td>\n",
       "      <td>SW</td>\n",
       "      <td>1.675</td>\n",
       "    </tr>\n",
       "    <tr>\n",
       "      <th>2</th>\n",
       "      <td>Flat / Apartment</td>\n",
       "      <td>761</td>\n",
       "      <td>2</td>\n",
       "      <td>London</td>\n",
       "      <td>SW</td>\n",
       "      <td>0.735</td>\n",
       "    </tr>\n",
       "    <tr>\n",
       "      <th>3</th>\n",
       "      <td>House</td>\n",
       "      <td>1986</td>\n",
       "      <td>4</td>\n",
       "      <td>London</td>\n",
       "      <td>SW</td>\n",
       "      <td>1.765</td>\n",
       "    </tr>\n",
       "    <tr>\n",
       "      <th>4</th>\n",
       "      <td>Flat / Apartment</td>\n",
       "      <td>700</td>\n",
       "      <td>2</td>\n",
       "      <td>London</td>\n",
       "      <td>SW</td>\n",
       "      <td>0.675</td>\n",
       "    </tr>\n",
       "    <tr>\n",
       "      <th>6</th>\n",
       "      <td>House</td>\n",
       "      <td>1548</td>\n",
       "      <td>4</td>\n",
       "      <td>London</td>\n",
       "      <td>SW</td>\n",
       "      <td>1.475</td>\n",
       "    </tr>\n",
       "  </tbody>\n",
       "</table>\n",
       "</div>"
      ],
      "text/plain": [
       "         House Type  Area in sq ft  No. of Bedrooms City/County Postcode 2  \\\n",
       "0             House           2716                5      London         SW   \n",
       "2  Flat / Apartment            761                2      London         SW   \n",
       "3             House           1986                4      London         SW   \n",
       "4  Flat / Apartment            700                2      London         SW   \n",
       "6             House           1548                4      London         SW   \n",
       "\n",
       "   Price (million)  \n",
       "0            1.675  \n",
       "2            0.735  \n",
       "3            1.765  \n",
       "4            0.675  \n",
       "6            1.475  "
      ]
     },
     "execution_count": 655,
     "metadata": {},
     "output_type": "execute_result"
    }
   ],
   "source": [
    "df2.head()"
   ]
  },
  {
   "cell_type": "code",
   "execution_count": 656,
   "id": "27fe5a6c",
   "metadata": {},
   "outputs": [
    {
     "data": {
      "text/plain": [
       "Flat / Apartment    1143\n",
       "House               1014\n",
       "New development      225\n",
       "Penthouse             64\n",
       "Studio                 7\n",
       "Duplex                 6\n",
       "Mews                   2\n",
       "Name: House Type, dtype: int64"
      ]
     },
     "execution_count": 656,
     "metadata": {},
     "output_type": "execute_result"
    }
   ],
   "source": [
    "#calculate number of house types \n",
    "property_counts = df2['House Type'].value_counts()\n",
    "property_counts"
   ]
  },
  {
   "cell_type": "code",
   "execution_count": 657,
   "id": "ccba66c2",
   "metadata": {},
   "outputs": [
    {
     "data": {
      "image/png": "[encoded data removed]",
      "text/plain": [
       "<Figure size 640x480 with 1 Axes>"
      ]
     },
     "metadata": {},
     "output_type": "display_data"
    }
   ],
   "source": [
    "property_counts.plot(kind='barh')\n",
    "plt.xlabel('House Type')\n",
    "plt.title('Count of House Type')\n",
    "plt.show()"
   ]
  },
  {
   "cell_type": "markdown",
   "id": "5f5e7fb3",
   "metadata": {},
   "source": [
    "We see that Flat / Apartment and House are the most common property types.\n",
    "Mews, Duplex and Studio apratments are not very popular."
   ]
  },
  {
   "cell_type": "markdown",
   "id": "80e96a54",
   "metadata": {},
   "source": [
    "### Create Bar Chart of 'No. of Bedrooms' vs 'Average Price' for a house "
   ]
  },
  {
   "cell_type": "code",
   "execution_count": 658,
   "id": "d32e79d8",
   "metadata": {},
   "outputs": [
    {
     "data": {
      "text/html": [
       "<div>\n",
       "<style scoped>\n",
       "    .dataframe tbody tr th:only-of-type {\n",
       "        vertical-align: middle;\n",
       "    }\n",
       "\n",
       "    .dataframe tbody tr th {\n",
       "        vertical-align: top;\n",
       "    }\n",
       "\n",
       "    .dataframe thead th {\n",
       "        text-align: right;\n",
       "    }\n",
       "</style>\n",
       "<table border=\"1\" class=\"dataframe\">\n",
       "  <thead>\n",
       "    <tr style=\"text-align: right;\">\n",
       "      <th></th>\n",
       "      <th>No. of Bedrooms</th>\n",
       "      <th>Average Price</th>\n",
       "    </tr>\n",
       "  </thead>\n",
       "  <tbody>\n",
       "    <tr>\n",
       "      <th>0</th>\n",
       "      <td>0</td>\n",
       "      <td>0.379714</td>\n",
       "    </tr>\n",
       "    <tr>\n",
       "      <th>1</th>\n",
       "      <td>1</td>\n",
       "      <td>0.654520</td>\n",
       "    </tr>\n",
       "    <tr>\n",
       "      <th>2</th>\n",
       "      <td>2</td>\n",
       "      <td>1.152643</td>\n",
       "    </tr>\n",
       "    <tr>\n",
       "      <th>3</th>\n",
       "      <td>3</td>\n",
       "      <td>1.899602</td>\n",
       "    </tr>\n",
       "    <tr>\n",
       "      <th>4</th>\n",
       "      <td>4</td>\n",
       "      <td>2.256623</td>\n",
       "    </tr>\n",
       "    <tr>\n",
       "      <th>5</th>\n",
       "      <td>5</td>\n",
       "      <td>2.417157</td>\n",
       "    </tr>\n",
       "    <tr>\n",
       "      <th>6</th>\n",
       "      <td>6</td>\n",
       "      <td>3.559828</td>\n",
       "    </tr>\n",
       "    <tr>\n",
       "      <th>7</th>\n",
       "      <td>7</td>\n",
       "      <td>3.883710</td>\n",
       "    </tr>\n",
       "    <tr>\n",
       "      <th>8</th>\n",
       "      <td>8</td>\n",
       "      <td>6.292857</td>\n",
       "    </tr>\n",
       "    <tr>\n",
       "      <th>9</th>\n",
       "      <td>10</td>\n",
       "      <td>9.975000</td>\n",
       "    </tr>\n",
       "  </tbody>\n",
       "</table>\n",
       "</div>"
      ],
      "text/plain": [
       "   No. of Bedrooms  Average Price\n",
       "0                0       0.379714\n",
       "1                1       0.654520\n",
       "2                2       1.152643\n",
       "3                3       1.899602\n",
       "4                4       2.256623\n",
       "5                5       2.417157\n",
       "6                6       3.559828\n",
       "7                7       3.883710\n",
       "8                8       6.292857\n",
       "9               10       9.975000"
      ]
     },
     "execution_count": 658,
     "metadata": {},
     "output_type": "execute_result"
    }
   ],
   "source": [
    "avg_price_by_bedrooms = df2.groupby('No. of Bedrooms')['Price (million)'].mean().reset_index()\n",
    "avg_price_by_bedrooms.columns = ['No. of Bedrooms', 'Average Price']\n",
    "avg_price_by_bedrooms"
   ]
  },
  {
   "cell_type": "code",
   "execution_count": 659,
   "id": "9f77f443",
   "metadata": {
    "scrolled": true
   },
   "outputs": [
    {
     "data": {
      "image/png": "[encoded data removed]",
      "text/plain": [
       "<Figure size 1500x500 with 1 Axes>"
      ]
     },
     "metadata": {},
     "output_type": "display_data"
    }
   ],
   "source": [
    "sns.catplot(x='No. of Bedrooms', y='Average Price', data=avg_price_by_bedrooms, aspect=3, kind ='bar' )\n",
    "\n",
    "plt.xlabel('No. of Bedrooms')\n",
    "plt.ylabel('Average Price Price (million)')\n",
    "plt.title('No. of bedrooms vs Average Price Price (million)', )\n",
    "plt.show()"
   ]
  },
  {
   "cell_type": "markdown",
   "id": "907e5f18",
   "metadata": {},
   "source": [
    "Result:\n",
    "We see that increasing no. of bedrooms equals an increase in house price "
   ]
  },
  {
   "cell_type": "markdown",
   "id": "1a08331e",
   "metadata": {},
   "source": [
    "## Create Bar Chart of 'House Type' vs 'Average Price'"
   ]
  },
  {
   "cell_type": "code",
   "execution_count": 660,
   "id": "7743a77a",
   "metadata": {},
   "outputs": [
    {
     "data": {
      "text/html": [
       "<div>\n",
       "<style scoped>\n",
       "    .dataframe tbody tr th:only-of-type {\n",
       "        vertical-align: middle;\n",
       "    }\n",
       "\n",
       "    .dataframe tbody tr th {\n",
       "        vertical-align: top;\n",
       "    }\n",
       "\n",
       "    .dataframe thead th {\n",
       "        text-align: right;\n",
       "    }\n",
       "</style>\n",
       "<table border=\"1\" class=\"dataframe\">\n",
       "  <thead>\n",
       "    <tr style=\"text-align: right;\">\n",
       "      <th></th>\n",
       "      <th>House Type</th>\n",
       "      <th>Average Price</th>\n",
       "    </tr>\n",
       "  </thead>\n",
       "  <tbody>\n",
       "    <tr>\n",
       "      <th>0</th>\n",
       "      <td>Duplex</td>\n",
       "      <td>0.840000</td>\n",
       "    </tr>\n",
       "    <tr>\n",
       "      <th>1</th>\n",
       "      <td>Flat / Apartment</td>\n",
       "      <td>1.259422</td>\n",
       "    </tr>\n",
       "    <tr>\n",
       "      <th>2</th>\n",
       "      <td>House</td>\n",
       "      <td>2.262349</td>\n",
       "    </tr>\n",
       "    <tr>\n",
       "      <th>3</th>\n",
       "      <td>Mews</td>\n",
       "      <td>1.400000</td>\n",
       "    </tr>\n",
       "    <tr>\n",
       "      <th>4</th>\n",
       "      <td>New development</td>\n",
       "      <td>1.919698</td>\n",
       "    </tr>\n",
       "    <tr>\n",
       "      <th>5</th>\n",
       "      <td>Penthouse</td>\n",
       "      <td>2.735622</td>\n",
       "    </tr>\n",
       "    <tr>\n",
       "      <th>6</th>\n",
       "      <td>Studio</td>\n",
       "      <td>0.359286</td>\n",
       "    </tr>\n",
       "  </tbody>\n",
       "</table>\n",
       "</div>"
      ],
      "text/plain": [
       "         House Type  Average Price\n",
       "0            Duplex       0.840000\n",
       "1  Flat / Apartment       1.259422\n",
       "2             House       2.262349\n",
       "3              Mews       1.400000\n",
       "4   New development       1.919698\n",
       "5         Penthouse       2.735622\n",
       "6            Studio       0.359286"
      ]
     },
     "execution_count": 660,
     "metadata": {},
     "output_type": "execute_result"
    }
   ],
   "source": [
    "# create a new dataframe with the average price for each house type\n",
    "avg_price_by_hometype = df2.groupby('House Type')['Price (million)'].mean().reset_index()\n",
    "avg_price_by_hometype.columns = ['House Type', 'Average Price']\n",
    "avg_price_by_hometype"
   ]
  },
  {
   "cell_type": "code",
   "execution_count": 661,
   "id": "959d4fe7",
   "metadata": {},
   "outputs": [
    {
     "data": {
      "text/html": [
       "<div>\n",
       "<style scoped>\n",
       "    .dataframe tbody tr th:only-of-type {\n",
       "        vertical-align: middle;\n",
       "    }\n",
       "\n",
       "    .dataframe tbody tr th {\n",
       "        vertical-align: top;\n",
       "    }\n",
       "\n",
       "    .dataframe thead th {\n",
       "        text-align: right;\n",
       "    }\n",
       "</style>\n",
       "<table border=\"1\" class=\"dataframe\">\n",
       "  <thead>\n",
       "    <tr style=\"text-align: right;\">\n",
       "      <th></th>\n",
       "      <th>House Type</th>\n",
       "      <th>Average Price</th>\n",
       "    </tr>\n",
       "  </thead>\n",
       "  <tbody>\n",
       "    <tr>\n",
       "      <th>5</th>\n",
       "      <td>Penthouse</td>\n",
       "      <td>2.735622</td>\n",
       "    </tr>\n",
       "    <tr>\n",
       "      <th>2</th>\n",
       "      <td>House</td>\n",
       "      <td>2.262349</td>\n",
       "    </tr>\n",
       "    <tr>\n",
       "      <th>4</th>\n",
       "      <td>New development</td>\n",
       "      <td>1.919698</td>\n",
       "    </tr>\n",
       "    <tr>\n",
       "      <th>3</th>\n",
       "      <td>Mews</td>\n",
       "      <td>1.400000</td>\n",
       "    </tr>\n",
       "    <tr>\n",
       "      <th>1</th>\n",
       "      <td>Flat / Apartment</td>\n",
       "      <td>1.259422</td>\n",
       "    </tr>\n",
       "    <tr>\n",
       "      <th>0</th>\n",
       "      <td>Duplex</td>\n",
       "      <td>0.840000</td>\n",
       "    </tr>\n",
       "    <tr>\n",
       "      <th>6</th>\n",
       "      <td>Studio</td>\n",
       "      <td>0.359286</td>\n",
       "    </tr>\n",
       "  </tbody>\n",
       "</table>\n",
       "</div>"
      ],
      "text/plain": [
       "         House Type  Average Price\n",
       "5         Penthouse       2.735622\n",
       "2             House       2.262349\n",
       "4   New development       1.919698\n",
       "3              Mews       1.400000\n",
       "1  Flat / Apartment       1.259422\n",
       "0            Duplex       0.840000\n",
       "6            Studio       0.359286"
      ]
     },
     "execution_count": 661,
     "metadata": {},
     "output_type": "execute_result"
    }
   ],
   "source": [
    "avg_price_by_hometype = avg_price_by_hometype.sort_values('Average Price', ascending=False)\n",
    "avg_price_by_hometype"
   ]
  },
  {
   "cell_type": "code",
   "execution_count": 662,
   "id": "1ff6ba64",
   "metadata": {},
   "outputs": [
    {
     "data": {
      "image/png": "[encoded data removed]",
      "text/plain": [
       "<Figure size 1500x500 with 1 Axes>"
      ]
     },
     "metadata": {},
     "output_type": "display_data"
    }
   ],
   "source": [
    "sns.catplot(x='House Type', y='Average Price', data=avg_price_by_hometype, aspect=3, kind = 'bar')\n",
    "\n",
    "plt.xlabel('House Type')\n",
    "plt.ylabel('Average Price (millions)')\n",
    "plt.title('Average Price by Home Type')\n",
    "plt.show()\n"
   ]
  },
  {
   "cell_type": "markdown",
   "id": "ddc24a95",
   "metadata": {},
   "source": [
    "Result: We see that 'Penthouse' is the most expensive house type on average and studio apartments are the cheapest on average"
   ]
  },
  {
   "cell_type": "markdown",
   "id": "e70bd92f",
   "metadata": {},
   "source": [
    "## Create scatter plot of 'Area in sq ft' vs ' Price of house ' "
   ]
  },
  {
   "cell_type": "code",
   "execution_count": 663,
   "id": "43298940",
   "metadata": {},
   "outputs": [
    {
     "data": {
      "image/png": "[encoded data removed]",
      "text/plain": [
       "<Figure size 640x480 with 1 Axes>"
      ]
     },
     "metadata": {},
     "output_type": "display_data"
    }
   ],
   "source": [
    "x=df2['Area in sq ft']\n",
    "y=df2['Price (million)']\n",
    "plt.scatter(x,y, s=1)\n",
    "\n",
    "plt.xlabel('Area in sq ft')\n",
    "plt.ylabel('Price (million)')\n",
    "plt.title('Area in sq ft vs Price of House (million)')\n",
    "plt.show()"
   ]
  },
  {
   "cell_type": "markdown",
   "id": "0ffb5573",
   "metadata": {},
   "source": [
    "Result: We see that an increase in area equals an increase in House price"
   ]
  },
  {
   "cell_type": "markdown",
   "id": "eaaab01f",
   "metadata": {},
   "source": [
    "## Create bar chart of 'Postcode region/district' vs ' Price of house '"
   ]
  },
  {
   "cell_type": "code",
   "execution_count": 664,
   "id": "018a556c",
   "metadata": {},
   "outputs": [
    {
     "data": {
      "text/html": [
       "<div>\n",
       "<style scoped>\n",
       "    .dataframe tbody tr th:only-of-type {\n",
       "        vertical-align: middle;\n",
       "    }\n",
       "\n",
       "    .dataframe tbody tr th {\n",
       "        vertical-align: top;\n",
       "    }\n",
       "\n",
       "    .dataframe thead th {\n",
       "        text-align: right;\n",
       "    }\n",
       "</style>\n",
       "<table border=\"1\" class=\"dataframe\">\n",
       "  <thead>\n",
       "    <tr style=\"text-align: right;\">\n",
       "      <th></th>\n",
       "      <th>Postcode 2</th>\n",
       "      <th>Average Price</th>\n",
       "    </tr>\n",
       "  </thead>\n",
       "  <tbody>\n",
       "    <tr>\n",
       "      <th>0</th>\n",
       "      <td>E1</td>\n",
       "      <td>0.854020</td>\n",
       "    </tr>\n",
       "    <tr>\n",
       "      <th>1</th>\n",
       "      <td>KT</td>\n",
       "      <td>1.861209</td>\n",
       "    </tr>\n",
       "    <tr>\n",
       "      <th>2</th>\n",
       "      <td>N1</td>\n",
       "      <td>1.244634</td>\n",
       "    </tr>\n",
       "    <tr>\n",
       "      <th>3</th>\n",
       "      <td>NW</td>\n",
       "      <td>2.173121</td>\n",
       "    </tr>\n",
       "    <tr>\n",
       "      <th>4</th>\n",
       "      <td>SW</td>\n",
       "      <td>1.757732</td>\n",
       "    </tr>\n",
       "    <tr>\n",
       "      <th>5</th>\n",
       "      <td>W1</td>\n",
       "      <td>2.216831</td>\n",
       "    </tr>\n",
       "  </tbody>\n",
       "</table>\n",
       "</div>"
      ],
      "text/plain": [
       "  Postcode 2  Average Price\n",
       "0         E1       0.854020\n",
       "1         KT       1.861209\n",
       "2         N1       1.244634\n",
       "3         NW       2.173121\n",
       "4         SW       1.757732\n",
       "5         W1       2.216831"
      ]
     },
     "execution_count": 664,
     "metadata": {},
     "output_type": "execute_result"
    }
   ],
   "source": [
    "mean_prices = df2.groupby(\"Postcode 2\")[\"Price (million)\"].mean().reset_index()\n",
    "mean_prices.columns= ['Postcode 2','Average Price']\n",
    "mean_prices"
   ]
  },
  {
   "cell_type": "code",
   "execution_count": 665,
   "id": "ed64a71f",
   "metadata": {
    "scrolled": true
   },
   "outputs": [
    {
     "data": {
      "text/html": [
       "<div>\n",
       "<style scoped>\n",
       "    .dataframe tbody tr th:only-of-type {\n",
       "        vertical-align: middle;\n",
       "    }\n",
       "\n",
       "    .dataframe tbody tr th {\n",
       "        vertical-align: top;\n",
       "    }\n",
       "\n",
       "    .dataframe thead th {\n",
       "        text-align: right;\n",
       "    }\n",
       "</style>\n",
       "<table border=\"1\" class=\"dataframe\">\n",
       "  <thead>\n",
       "    <tr style=\"text-align: right;\">\n",
       "      <th></th>\n",
       "      <th>Postcode 2</th>\n",
       "      <th>Average Price</th>\n",
       "    </tr>\n",
       "  </thead>\n",
       "  <tbody>\n",
       "    <tr>\n",
       "      <th>5</th>\n",
       "      <td>W1</td>\n",
       "      <td>2.216831</td>\n",
       "    </tr>\n",
       "    <tr>\n",
       "      <th>3</th>\n",
       "      <td>NW</td>\n",
       "      <td>2.173121</td>\n",
       "    </tr>\n",
       "    <tr>\n",
       "      <th>1</th>\n",
       "      <td>KT</td>\n",
       "      <td>1.861209</td>\n",
       "    </tr>\n",
       "    <tr>\n",
       "      <th>4</th>\n",
       "      <td>SW</td>\n",
       "      <td>1.757732</td>\n",
       "    </tr>\n",
       "    <tr>\n",
       "      <th>2</th>\n",
       "      <td>N1</td>\n",
       "      <td>1.244634</td>\n",
       "    </tr>\n",
       "    <tr>\n",
       "      <th>0</th>\n",
       "      <td>E1</td>\n",
       "      <td>0.854020</td>\n",
       "    </tr>\n",
       "  </tbody>\n",
       "</table>\n",
       "</div>"
      ],
      "text/plain": [
       "  Postcode 2  Average Price\n",
       "5         W1       2.216831\n",
       "3         NW       2.173121\n",
       "1         KT       1.861209\n",
       "4         SW       1.757732\n",
       "2         N1       1.244634\n",
       "0         E1       0.854020"
      ]
     },
     "execution_count": 665,
     "metadata": {},
     "output_type": "execute_result"
    }
   ],
   "source": [
    "df2_bar = mean_prices.sort_values('Average Price', ascending=False)\n",
    "df2_bar"
   ]
  },
  {
   "cell_type": "code",
   "execution_count": 666,
   "id": "24be6b0a",
   "metadata": {
    "scrolled": false
   },
   "outputs": [
    {
     "data": {
      "image/png": "[encoded data removed]",
      "text/plain": [
       "<Figure size 1500x600 with 1 Axes>"
      ]
     },
     "metadata": {},
     "output_type": "display_data"
    }
   ],
   "source": [
    "x=df2_bar['Postcode 2']\n",
    "y=df2_bar['Average Price']\n",
    "\n",
    "fig = plt.subplots(figsize=(15, 6))\n",
    "\n",
    "plt.bar(x, y)\n",
    "plt.xlabel('Postcode 2')\n",
    "plt.ylabel('Average Price (millions)')\n",
    "plt.title('Postcode 2 vs Average Price (millions)')\n",
    "\n",
    "plt.show()"
   ]
  },
  {
   "cell_type": "markdown",
   "id": "1d7bf2b3",
   "metadata": {},
   "source": [
    "Result: We see that West London houses are more expensive. East London houses are cheaper."
   ]
  },
  {
   "cell_type": "markdown",
   "id": "15e14ad6",
   "metadata": {},
   "source": [
    "## Create a map of these postcode locations: "
   ]
  },
  {
   "cell_type": "code",
   "execution_count": 667,
   "id": "381510fe",
   "metadata": {},
   "outputs": [
    {
     "data": {
      "text/html": [
       "<div style=\"width:100%;\"><div style=\"position:relative;width:100%;height:0;padding-bottom:60%;\"><span style=\"color:#565656\">Make this Notebook Trusted to load map: File -> Trust Notebook</span><iframe srcdoc=\"&lt;!DOCTYPE html&gt;\n",
       "&lt;html&gt;\n",
       "&lt;head&gt;\n",
       "    \n",
       "    &lt;meta http-equiv=&quot;content-type&quot; content=&quot;text/html; charset=UTF-8&quot; /&gt;\n",
       "    \n",
       "        &lt;script&gt;\n",
       "            L_NO_TOUCH = false;\n",
       "            L_DISABLE_3D = false;\n",
       "        &lt;/script&gt;\n",
       "    \n",
       "    &lt;style&gt;html, body {width: 100%;height: 100%;margin: 0;padding: 0;}&lt;/style&gt;\n",
       "    &lt;style&gt;#map {position:absolute;top:0;bottom:0;right:0;left:0;}&lt;/style&gt;\n",
       "    &lt;script src=&quot;https://cdn.jsdelivr.net/npm/leaflet@1.9.3/dist/leaflet.js&quot;&gt;&lt;/script&gt;\n",
       "    &lt;script src=&quot;https://code.jquery.com/jquery-1.12.4.min.js&quot;&gt;&lt;/script&gt;\n",
       "    &lt;script src=&quot;https://cdn.jsdelivr.net/npm/bootstrap@5.2.2/dist/js/bootstrap.bundle.min.js&quot;&gt;&lt;/script&gt;\n",
       "    &lt;script src=&quot;https://cdnjs.cloudflare.com/ajax/libs/Leaflet.awesome-markers/2.0.2/leaflet.awesome-markers.js&quot;&gt;&lt;/script&gt;\n",
       "    &lt;link rel=&quot;stylesheet&quot; href=&quot;https://cdn.jsdelivr.net/npm/leaflet@1.9.3/dist/leaflet.css&quot;/&gt;\n",
       "    &lt;link rel=&quot;stylesheet&quot; href=&quot;https://cdn.jsdelivr.net/npm/bootstrap@5.2.2/dist/css/bootstrap.min.css&quot;/&gt;\n",
       "    &lt;link rel=&quot;stylesheet&quot; href=&quot;https://netdna.bootstrapcdn.com/bootstrap/3.0.0/css/bootstrap.min.css&quot;/&gt;\n",
       "    &lt;link rel=&quot;stylesheet&quot; href=&quot;https://cdn.jsdelivr.net/npm/@fortawesome/fontawesome-free@6.2.0/css/all.min.css&quot;/&gt;\n",
       "    &lt;link rel=&quot;stylesheet&quot; href=&quot;https://cdnjs.cloudflare.com/ajax/libs/Leaflet.awesome-markers/2.0.2/leaflet.awesome-markers.css&quot;/&gt;\n",
       "    &lt;link rel=&quot;stylesheet&quot; href=&quot;https://cdn.jsdelivr.net/gh/python-visualization/folium/folium/templates/leaflet.awesome.rotate.min.css&quot;/&gt;\n",
       "    \n",
       "            &lt;meta name=&quot;viewport&quot; content=&quot;width=device-width,\n",
       "                initial-scale=1.0, maximum-scale=1.0, user-scalable=no&quot; /&gt;\n",
       "            &lt;style&gt;\n",
       "                #map_59e424184f3dc95ae17e1711a8cae460 {\n",
       "                    position: relative;\n",
       "                    width: 100.0%;\n",
       "                    height: 100.0%;\n",
       "                    left: 0.0%;\n",
       "                    top: 0.0%;\n",
       "                }\n",
       "                .leaflet-container { font-size: 1rem; }\n",
       "            &lt;/style&gt;\n",
       "        \n",
       "&lt;/head&gt;\n",
       "&lt;body&gt;\n",
       "    \n",
       "    \n",
       "            &lt;div class=&quot;folium-map&quot; id=&quot;map_59e424184f3dc95ae17e1711a8cae460&quot; &gt;&lt;/div&gt;\n",
       "        \n",
       "&lt;/body&gt;\n",
       "&lt;script&gt;\n",
       "    \n",
       "    \n",
       "            var map_59e424184f3dc95ae17e1711a8cae460 = L.map(\n",
       "                &quot;map_59e424184f3dc95ae17e1711a8cae460&quot;,\n",
       "                {\n",
       "                    center: [51.5074, -0.1278],\n",
       "                    crs: L.CRS.EPSG3857,\n",
       "                    zoom: 11,\n",
       "                    zoomControl: true,\n",
       "                    preferCanvas: false,\n",
       "                }\n",
       "            );\n",
       "\n",
       "            \n",
       "\n",
       "        \n",
       "    \n",
       "            var tile_layer_490e4409ba7db5b07a5d938afdaac794 = L.tileLayer(\n",
       "                &quot;https://{s}.tile.openstreetmap.org/{z}/{x}/{y}.png&quot;,\n",
       "                {&quot;attribution&quot;: &quot;Data by \\u0026copy; \\u003ca target=\\&quot;_blank\\&quot; href=\\&quot;http://openstreetmap.org\\&quot;\\u003eOpenStreetMap\\u003c/a\\u003e, under \\u003ca target=\\&quot;_blank\\&quot; href=\\&quot;http://www.openstreetmap.org/copyright\\&quot;\\u003eODbL\\u003c/a\\u003e.&quot;, &quot;detectRetina&quot;: false, &quot;maxNativeZoom&quot;: 18, &quot;maxZoom&quot;: 18, &quot;minZoom&quot;: 0, &quot;noWrap&quot;: false, &quot;opacity&quot;: 1, &quot;subdomains&quot;: &quot;abc&quot;, &quot;tms&quot;: false}\n",
       "            ).addTo(map_59e424184f3dc95ae17e1711a8cae460);\n",
       "        \n",
       "    \n",
       "            var circle_2034e17aeaa01d8fce1a4da1ff194d3e = L.circle(\n",
       "                [51.4652, -0.2198],\n",
       "                {&quot;bubblingMouseEvents&quot;: true, &quot;color&quot;: &quot;blue&quot;, &quot;dashArray&quot;: null, &quot;dashOffset&quot;: null, &quot;fill&quot;: true, &quot;fillColor&quot;: &quot;blue&quot;, &quot;fillOpacity&quot;: 0.2, &quot;fillRule&quot;: &quot;evenodd&quot;, &quot;lineCap&quot;: &quot;round&quot;, &quot;lineJoin&quot;: &quot;round&quot;, &quot;opacity&quot;: 1.0, &quot;radius&quot;: 2000, &quot;stroke&quot;: true, &quot;weight&quot;: 3}\n",
       "            ).addTo(map_59e424184f3dc95ae17e1711a8cae460);\n",
       "        \n",
       "    \n",
       "            circle_2034e17aeaa01d8fce1a4da1ff194d3e.bindTooltip(\n",
       "                `&lt;div&gt;\n",
       "                     SW\n",
       "                 &lt;/div&gt;`,\n",
       "                {&quot;sticky&quot;: true}\n",
       "            );\n",
       "        \n",
       "    \n",
       "            var circle_6d74855c37cd982c964d771399e85f53 = L.circle(\n",
       "                [51.5637, -0.2772],\n",
       "                {&quot;bubblingMouseEvents&quot;: true, &quot;color&quot;: &quot;green&quot;, &quot;dashArray&quot;: null, &quot;dashOffset&quot;: null, &quot;fill&quot;: true, &quot;fillColor&quot;: &quot;green&quot;, &quot;fillOpacity&quot;: 0.2, &quot;fillRule&quot;: &quot;evenodd&quot;, &quot;lineCap&quot;: &quot;round&quot;, &quot;lineJoin&quot;: &quot;round&quot;, &quot;opacity&quot;: 1.0, &quot;radius&quot;: 2000, &quot;stroke&quot;: true, &quot;weight&quot;: 3}\n",
       "            ).addTo(map_59e424184f3dc95ae17e1711a8cae460);\n",
       "        \n",
       "    \n",
       "            circle_6d74855c37cd982c964d771399e85f53.bindTooltip(\n",
       "                `&lt;div&gt;\n",
       "                     NW\n",
       "                 &lt;/div&gt;`,\n",
       "                {&quot;sticky&quot;: true}\n",
       "            );\n",
       "        \n",
       "    \n",
       "            var circle_1abfe0941cd4f182cfa641f63406e7b4 = L.circle(\n",
       "                [51.5142, -0.1417],\n",
       "                {&quot;bubblingMouseEvents&quot;: true, &quot;color&quot;: &quot;red&quot;, &quot;dashArray&quot;: null, &quot;dashOffset&quot;: null, &quot;fill&quot;: true, &quot;fillColor&quot;: &quot;red&quot;, &quot;fillOpacity&quot;: 0.2, &quot;fillRule&quot;: &quot;evenodd&quot;, &quot;lineCap&quot;: &quot;round&quot;, &quot;lineJoin&quot;: &quot;round&quot;, &quot;opacity&quot;: 1.0, &quot;radius&quot;: 2000, &quot;stroke&quot;: true, &quot;weight&quot;: 3}\n",
       "            ).addTo(map_59e424184f3dc95ae17e1711a8cae460);\n",
       "        \n",
       "    \n",
       "            circle_1abfe0941cd4f182cfa641f63406e7b4.bindTooltip(\n",
       "                `&lt;div&gt;\n",
       "                     W1\n",
       "                 &lt;/div&gt;`,\n",
       "                {&quot;sticky&quot;: true}\n",
       "            );\n",
       "        \n",
       "    \n",
       "            var circle_df6861567e3c4123378dd86a04bd3b5b = L.circle(\n",
       "                [51.4123, -0.3007],\n",
       "                {&quot;bubblingMouseEvents&quot;: true, &quot;color&quot;: &quot;purple&quot;, &quot;dashArray&quot;: null, &quot;dashOffset&quot;: null, &quot;fill&quot;: true, &quot;fillColor&quot;: &quot;purple&quot;, &quot;fillOpacity&quot;: 0.2, &quot;fillRule&quot;: &quot;evenodd&quot;, &quot;lineCap&quot;: &quot;round&quot;, &quot;lineJoin&quot;: &quot;round&quot;, &quot;opacity&quot;: 1.0, &quot;radius&quot;: 2000, &quot;stroke&quot;: true, &quot;weight&quot;: 3}\n",
       "            ).addTo(map_59e424184f3dc95ae17e1711a8cae460);\n",
       "        \n",
       "    \n",
       "            circle_df6861567e3c4123378dd86a04bd3b5b.bindTooltip(\n",
       "                `&lt;div&gt;\n",
       "                     KT\n",
       "                 &lt;/div&gt;`,\n",
       "                {&quot;sticky&quot;: true}\n",
       "            );\n",
       "        \n",
       "    \n",
       "            var circle_b82776b686c1deab79c59eb35732ab97 = L.circle(\n",
       "                [51.5465, -0.1058],\n",
       "                {&quot;bubblingMouseEvents&quot;: true, &quot;color&quot;: &quot;orange&quot;, &quot;dashArray&quot;: null, &quot;dashOffset&quot;: null, &quot;fill&quot;: true, &quot;fillColor&quot;: &quot;orange&quot;, &quot;fillOpacity&quot;: 0.2, &quot;fillRule&quot;: &quot;evenodd&quot;, &quot;lineCap&quot;: &quot;round&quot;, &quot;lineJoin&quot;: &quot;round&quot;, &quot;opacity&quot;: 1.0, &quot;radius&quot;: 2000, &quot;stroke&quot;: true, &quot;weight&quot;: 3}\n",
       "            ).addTo(map_59e424184f3dc95ae17e1711a8cae460);\n",
       "        \n",
       "    \n",
       "            circle_b82776b686c1deab79c59eb35732ab97.bindTooltip(\n",
       "                `&lt;div&gt;\n",
       "                     N1\n",
       "                 &lt;/div&gt;`,\n",
       "                {&quot;sticky&quot;: true}\n",
       "            );\n",
       "        \n",
       "    \n",
       "            var circle_fa1e58cf3797108b68595e37568b6764 = L.circle(\n",
       "                [51.5203, -0.0293],\n",
       "                {&quot;bubblingMouseEvents&quot;: true, &quot;color&quot;: &quot;brown&quot;, &quot;dashArray&quot;: null, &quot;dashOffset&quot;: null, &quot;fill&quot;: true, &quot;fillColor&quot;: &quot;brown&quot;, &quot;fillOpacity&quot;: 0.2, &quot;fillRule&quot;: &quot;evenodd&quot;, &quot;lineCap&quot;: &quot;round&quot;, &quot;lineJoin&quot;: &quot;round&quot;, &quot;opacity&quot;: 1.0, &quot;radius&quot;: 2000, &quot;stroke&quot;: true, &quot;weight&quot;: 3}\n",
       "            ).addTo(map_59e424184f3dc95ae17e1711a8cae460);\n",
       "        \n",
       "    \n",
       "            circle_fa1e58cf3797108b68595e37568b6764.bindTooltip(\n",
       "                `&lt;div&gt;\n",
       "                     E1\n",
       "                 &lt;/div&gt;`,\n",
       "                {&quot;sticky&quot;: true}\n",
       "            );\n",
       "        \n",
       "&lt;/script&gt;\n",
       "&lt;/html&gt;\" style=\"position:absolute;width:100%;height:100%;left:0;top:0;border:none !important;\" allowfullscreen webkitallowfullscreen mozallowfullscreen></iframe></div></div>"
      ],
      "text/plain": [
       "<folium.folium.Map at 0x7fe1d20773a0>"
      ]
     },
     "execution_count": 667,
     "metadata": {},
     "output_type": "execute_result"
    }
   ],
   "source": [
    "import folium\n",
    "\n",
    "# create a Folium map centered on London\n",
    "london_map = folium.Map(location=[51.5074, -0.1278], zoom_start=11)\n",
    "\n",
    "# Define the coordinates for each area\n",
    "sw_lat, sw_lon = 51.4652, -0.2198 # South West London\n",
    "nw_lat, nw_lon = 51.5637, -0.2772 # North West London\n",
    "w1_lat, w1_lon = 51.5142, -0.1417 # W1\n",
    "kt_lat, kt_lon = 51.4123, -0.3007 # KT\n",
    "n1_lat, n1_lon = 51.5465, -0.1058 # N1\n",
    "e1_lat, e1_lon = 51.5203, -0.0293 # E1\n",
    "\n",
    "# Add a circle for South West London\n",
    "folium.Circle(\n",
    "    location=[sw_lat, sw_lon], \n",
    "    radius=2000, # radius of circle in meters\n",
    "    color='blue', \n",
    "    fill=True, \n",
    "    fill_color='blue', \n",
    "    tooltip='SW'\n",
    ").add_to(london_map)\n",
    "\n",
    "# Add a circle for North West London\n",
    "folium.Circle(\n",
    "    location=[nw_lat, nw_lon], \n",
    "    radius=2000, # radius of circle in meters\n",
    "    color='green', \n",
    "    fill=True, \n",
    "    fill_color='green', \n",
    "    tooltip='NW'\n",
    ").add_to(london_map)\n",
    "\n",
    "# Add a circle for W1\n",
    "folium.Circle(\n",
    "    location=[w1_lat, w1_lon], \n",
    "    radius=2000, # radius of circle in meters\n",
    "    color='red', \n",
    "    fill=True, \n",
    "    fill_color='red', \n",
    "    tooltip='W1'\n",
    ").add_to(london_map)\n",
    "\n",
    "# Add a circle for Kingston upon Thames London\n",
    "folium.Circle(\n",
    "    location=[kt_lat, kt_lon], \n",
    "    radius=2000, # radius of circle in meters\n",
    "    color='purple', \n",
    "    fill=True, \n",
    "    fill_color='purple', \n",
    "    tooltip='KT'\n",
    ").add_to(london_map)\n",
    "\n",
    "# Add a circle for N1 London\n",
    "folium.Circle(\n",
    "    location=[n1_lat, n1_lon], \n",
    "    radius=2000, # radius of circle in meters\n",
    "    color='orange', \n",
    "    fill=True, \n",
    "    fill_color='orange', \n",
    "    tooltip='N1'\n",
    ").add_to(london_map)\n",
    "\n",
    "# Add a circle for E1\n",
    "folium.Circle(\n",
    "    location=[e1_lat, e1_lon], \n",
    "    radius=2000, # radius of circle in meters\n",
    "    color='brown', \n",
    "    fill=True, \n",
    "    fill_color='brown', \n",
    "    tooltip='E1'\n",
    ").add_to(london_map)\n",
    "\n",
    "\n",
    "# display the map\n",
    "london_map\n"
   ]
  },
  {
   "cell_type": "code",
   "execution_count": 668,
   "id": "75ffd3b8",
   "metadata": {},
   "outputs": [
    {
     "data": {
      "text/html": [
       "<div>\n",
       "<style scoped>\n",
       "    .dataframe tbody tr th:only-of-type {\n",
       "        vertical-align: middle;\n",
       "    }\n",
       "\n",
       "    .dataframe tbody tr th {\n",
       "        vertical-align: top;\n",
       "    }\n",
       "\n",
       "    .dataframe thead th {\n",
       "        text-align: right;\n",
       "    }\n",
       "</style>\n",
       "<table border=\"1\" class=\"dataframe\">\n",
       "  <thead>\n",
       "    <tr style=\"text-align: right;\">\n",
       "      <th></th>\n",
       "      <th>House Type</th>\n",
       "      <th>Area in sq ft</th>\n",
       "      <th>No. of Bedrooms</th>\n",
       "      <th>City/County</th>\n",
       "      <th>Postcode 2</th>\n",
       "      <th>Price (million)</th>\n",
       "    </tr>\n",
       "  </thead>\n",
       "  <tbody>\n",
       "    <tr>\n",
       "      <th>0</th>\n",
       "      <td>House</td>\n",
       "      <td>2716</td>\n",
       "      <td>5</td>\n",
       "      <td>London</td>\n",
       "      <td>SW</td>\n",
       "      <td>1.675</td>\n",
       "    </tr>\n",
       "    <tr>\n",
       "      <th>2</th>\n",
       "      <td>Flat / Apartment</td>\n",
       "      <td>761</td>\n",
       "      <td>2</td>\n",
       "      <td>London</td>\n",
       "      <td>SW</td>\n",
       "      <td>0.735</td>\n",
       "    </tr>\n",
       "    <tr>\n",
       "      <th>3</th>\n",
       "      <td>House</td>\n",
       "      <td>1986</td>\n",
       "      <td>4</td>\n",
       "      <td>London</td>\n",
       "      <td>SW</td>\n",
       "      <td>1.765</td>\n",
       "    </tr>\n",
       "    <tr>\n",
       "      <th>4</th>\n",
       "      <td>Flat / Apartment</td>\n",
       "      <td>700</td>\n",
       "      <td>2</td>\n",
       "      <td>London</td>\n",
       "      <td>SW</td>\n",
       "      <td>0.675</td>\n",
       "    </tr>\n",
       "    <tr>\n",
       "      <th>6</th>\n",
       "      <td>House</td>\n",
       "      <td>1548</td>\n",
       "      <td>4</td>\n",
       "      <td>London</td>\n",
       "      <td>SW</td>\n",
       "      <td>1.475</td>\n",
       "    </tr>\n",
       "  </tbody>\n",
       "</table>\n",
       "</div>"
      ],
      "text/plain": [
       "         House Type  Area in sq ft  No. of Bedrooms City/County Postcode 2  \\\n",
       "0             House           2716                5      London         SW   \n",
       "2  Flat / Apartment            761                2      London         SW   \n",
       "3             House           1986                4      London         SW   \n",
       "4  Flat / Apartment            700                2      London         SW   \n",
       "6             House           1548                4      London         SW   \n",
       "\n",
       "   Price (million)  \n",
       "0            1.675  \n",
       "2            0.735  \n",
       "3            1.765  \n",
       "4            0.675  \n",
       "6            1.475  "
      ]
     },
     "execution_count": 668,
     "metadata": {},
     "output_type": "execute_result"
    }
   ],
   "source": [
    "df2.head()"
   ]
  },
  {
   "cell_type": "markdown",
   "id": "0f70c36a",
   "metadata": {},
   "source": [
    "Since there is a clear variation of house price depending on post code. We do areas specific hous rice analysis. "
   ]
  },
  {
   "cell_type": "markdown",
   "id": "b1513454",
   "metadata": {},
   "source": [
    "split into 6 datframes for each postal code region"
   ]
  },
  {
   "cell_type": "code",
   "execution_count": 669,
   "id": "c80ea140",
   "metadata": {},
   "outputs": [],
   "source": [
    "df_n1 = df2[  df2['Postcode 2'] == 'N1'   ]\n",
    "df_sw = df2[  df2['Postcode 2'] == 'SW'   ]\n",
    "df_e1 = df2[  df2['Postcode 2'] == 'E1'   ]\n",
    "df_kt = df2[  df2['Postcode 2'] == 'KT'   ]\n",
    "df_w1 = df2[  df2['Postcode 2'] == 'W1'   ]\n",
    "df_nw = df2[  df2['Postcode 2'] == 'NW'   ]\n"
   ]
  },
  {
   "cell_type": "code",
   "execution_count": 670,
   "id": "426b30d3",
   "metadata": {
    "scrolled": false
   },
   "outputs": [
    {
     "data": {
      "image/png": "[encoded data removed]",
      "text/plain": [
       "<Figure size 640x480 with 1 Axes>"
      ]
     },
     "metadata": {},
     "output_type": "display_data"
    }
   ],
   "source": [
    "# Create a scatter plot with Matplotlib\n",
    "x=df_n1['Area in sq ft']\n",
    "y=df_n1['Price (million)']\n",
    "\n",
    "plt.scatter(x,y)\n",
    "\n",
    "# Add axis labels and title\n",
    "plt.xlabel('Area in sq ft')\n",
    "plt.ylabel('Price (million)')\n",
    "plt.title('Scatter plot of Area vs Price (N1)')\n",
    "\n",
    "# Show the plot\n",
    "plt.show()\n"
   ]
  },
  {
   "cell_type": "code",
   "execution_count": 671,
   "id": "2530afd9",
   "metadata": {},
   "outputs": [
    {
     "data": {
      "image/png": "[encoded data removed]",
      "text/plain": [
       "<Figure size 640x480 with 1 Axes>"
      ]
     },
     "metadata": {},
     "output_type": "display_data"
    }
   ],
   "source": [
    "# Create a scatter plot with Matplotlib\n",
    "x=df_sw['Area in sq ft']\n",
    "y=df_sw['Price (million)']\n",
    "\n",
    "plt.scatter(x,y)\n",
    "\n",
    "# Add axis labels and title\n",
    "plt.xlabel('Area in sq ft')\n",
    "plt.ylabel('Price (million)')\n",
    "plt.title('Scatter plot of Area vs Price (SW)')\n",
    "\n",
    "# Show the plot\n",
    "plt.show()"
   ]
  },
  {
   "cell_type": "code",
   "execution_count": 672,
   "id": "c99c768a",
   "metadata": {},
   "outputs": [
    {
     "data": {
      "image/png": "[encoded data removed]",
      "text/plain": [
       "<Figure size 640x480 with 1 Axes>"
      ]
     },
     "metadata": {},
     "output_type": "display_data"
    }
   ],
   "source": [
    "# Create a scatter plot with Matplotlib\n",
    "x=df_e1['Area in sq ft']\n",
    "y=df_e1['Price (million)']\n",
    "\n",
    "plt.scatter(x,y)\n",
    "\n",
    "# Add axis labels and title\n",
    "plt.xlabel('Area in sq ft')\n",
    "plt.ylabel('Price (million)')\n",
    "plt.title('Scatter plot of Area vs Price (E1)')\n",
    "\n",
    "# Show the plot\n",
    "plt.show()"
   ]
  },
  {
   "cell_type": "code",
   "execution_count": 673,
   "id": "1da4d44f",
   "metadata": {},
   "outputs": [
    {
     "data": {
      "image/png": "[encoded data removed]",
      "text/plain": [
       "<Figure size 640x480 with 1 Axes>"
      ]
     },
     "metadata": {},
     "output_type": "display_data"
    }
   ],
   "source": [
    "# Create a scatter plot with Matplotlib\n",
    "x=df_kt['Area in sq ft']\n",
    "y=df_kt['Price (million)']\n",
    "\n",
    "plt.scatter(x,y)\n",
    "\n",
    "# Add axis labels and title\n",
    "plt.xlabel('Area in sq ft')\n",
    "plt.ylabel('Price (million)')\n",
    "plt.title('Scatter plot of Area vs Price (KT)')\n",
    "\n",
    "# Show the plot\n",
    "plt.show()"
   ]
  },
  {
   "cell_type": "code",
   "execution_count": 674,
   "id": "27bc7d38",
   "metadata": {},
   "outputs": [
    {
     "data": {
      "image/png": "[encoded data removed]",
      "text/plain": [
       "<Figure size 640x480 with 1 Axes>"
      ]
     },
     "metadata": {},
     "output_type": "display_data"
    }
   ],
   "source": [
    "# Create a scatter plot with Matplotlib\n",
    "x=df_w1['Area in sq ft']\n",
    "y=df_w1['Price (million)']\n",
    "\n",
    "plt.scatter(x,y)\n",
    "\n",
    "# Add axis labels and title\n",
    "plt.xlabel('Area in sq ft')\n",
    "plt.ylabel('Price (million)')\n",
    "plt.title('Scatter plot of Area vs Price (W1)')\n",
    "\n",
    "# Show the plot\n",
    "plt.show()"
   ]
  },
  {
   "cell_type": "code",
   "execution_count": 675,
   "id": "e72bf378",
   "metadata": {
    "scrolled": false
   },
   "outputs": [
    {
     "data": {
      "image/png": "[encoded data removed]",
      "text/plain": [
       "<Figure size 640x480 with 1 Axes>"
      ]
     },
     "metadata": {},
     "output_type": "display_data"
    }
   ],
   "source": [
    "# Create a scatter plot with Matplotlib\n",
    "x=df_nw['Area in sq ft']\n",
    "y=df_nw['Price (million)']\n",
    "\n",
    "plt.scatter(x,y)\n",
    "\n",
    "# Add axis labels and title\n",
    "plt.xlabel('Area in sq ft')\n",
    "plt.ylabel('Price (million)')\n",
    "plt.title('Scatter plot of Area vs Price (NW)')\n",
    "\n",
    "# Show the plot\n",
    "plt.show()"
   ]
  },
  {
   "cell_type": "markdown",
   "id": "ff0f989c",
   "metadata": {},
   "source": [
    "Result: We can see from our graphs that some post code regions have a strong link between 'area' and 'price' (ie N1). Others have a weaker correlation (ie SW london)"
   ]
  },
  {
   "cell_type": "markdown",
   "id": "2067b392",
   "metadata": {},
   "source": [
    "## Machine Learning Prediction\n"
   ]
  },
  {
   "cell_type": "markdown",
   "id": "967d5d5c",
   "metadata": {},
   "source": [
    "There are multiple variables that impact the House Prices. When more than one independent variable is present, the process is called multiple linear regression."
   ]
  },
  {
   "cell_type": "markdown",
   "id": "89505b3a",
   "metadata": {},
   "source": [
    "Let's split our dataset into train and test sets. Around 80% of the entire dataset will be used for training and 20% for testing."
   ]
  },
  {
   "cell_type": "code",
   "execution_count": 676,
   "id": "deae96e9",
   "metadata": {},
   "outputs": [
    {
     "data": {
      "text/html": [
       "<div>\n",
       "<style scoped>\n",
       "    .dataframe tbody tr th:only-of-type {\n",
       "        vertical-align: middle;\n",
       "    }\n",
       "\n",
       "    .dataframe tbody tr th {\n",
       "        vertical-align: top;\n",
       "    }\n",
       "\n",
       "    .dataframe thead th {\n",
       "        text-align: right;\n",
       "    }\n",
       "</style>\n",
       "<table border=\"1\" class=\"dataframe\">\n",
       "  <thead>\n",
       "    <tr style=\"text-align: right;\">\n",
       "      <th></th>\n",
       "      <th>House Type</th>\n",
       "      <th>Area in sq ft</th>\n",
       "      <th>No. of Bedrooms</th>\n",
       "      <th>City/County</th>\n",
       "      <th>Postcode 2</th>\n",
       "      <th>Price (million)</th>\n",
       "    </tr>\n",
       "  </thead>\n",
       "  <tbody>\n",
       "    <tr>\n",
       "      <th>0</th>\n",
       "      <td>House</td>\n",
       "      <td>2716</td>\n",
       "      <td>5</td>\n",
       "      <td>London</td>\n",
       "      <td>SW</td>\n",
       "      <td>1.675</td>\n",
       "    </tr>\n",
       "    <tr>\n",
       "      <th>2</th>\n",
       "      <td>Flat / Apartment</td>\n",
       "      <td>761</td>\n",
       "      <td>2</td>\n",
       "      <td>London</td>\n",
       "      <td>SW</td>\n",
       "      <td>0.735</td>\n",
       "    </tr>\n",
       "    <tr>\n",
       "      <th>3</th>\n",
       "      <td>House</td>\n",
       "      <td>1986</td>\n",
       "      <td>4</td>\n",
       "      <td>London</td>\n",
       "      <td>SW</td>\n",
       "      <td>1.765</td>\n",
       "    </tr>\n",
       "    <tr>\n",
       "      <th>4</th>\n",
       "      <td>Flat / Apartment</td>\n",
       "      <td>700</td>\n",
       "      <td>2</td>\n",
       "      <td>London</td>\n",
       "      <td>SW</td>\n",
       "      <td>0.675</td>\n",
       "    </tr>\n",
       "    <tr>\n",
       "      <th>6</th>\n",
       "      <td>House</td>\n",
       "      <td>1548</td>\n",
       "      <td>4</td>\n",
       "      <td>London</td>\n",
       "      <td>SW</td>\n",
       "      <td>1.475</td>\n",
       "    </tr>\n",
       "  </tbody>\n",
       "</table>\n",
       "</div>"
      ],
      "text/plain": [
       "         House Type  Area in sq ft  No. of Bedrooms City/County Postcode 2  \\\n",
       "0             House           2716                5      London         SW   \n",
       "2  Flat / Apartment            761                2      London         SW   \n",
       "3             House           1986                4      London         SW   \n",
       "4  Flat / Apartment            700                2      London         SW   \n",
       "6             House           1548                4      London         SW   \n",
       "\n",
       "   Price (million)  \n",
       "0            1.675  \n",
       "2            0.735  \n",
       "3            1.765  \n",
       "4            0.675  \n",
       "6            1.475  "
      ]
     },
     "execution_count": 676,
     "metadata": {},
     "output_type": "execute_result"
    }
   ],
   "source": [
    "df2.head() "
   ]
  },
  {
   "cell_type": "markdown",
   "id": "b732a728",
   "metadata": {},
   "source": [
    "## SW, NW, W1, KT, N1, E1"
   ]
  },
  {
   "cell_type": "code",
   "execution_count": 677,
   "id": "37f7d02e",
   "metadata": {
    "scrolled": false
   },
   "outputs": [
    {
     "name": "stdout",
     "output_type": "stream",
     "text": [
      "R-squared: 0.54\n",
      "Mean squared error: 1.26\n",
      "Mean absolute error: 0.68\n"
     ]
    }
   ],
   "source": [
    "import pandas as pd\n",
    "from sklearn.model_selection import train_test_split\n",
    "from sklearn.linear_model import LinearRegression\n",
    "from sklearn.preprocessing import OneHotEncoder\n",
    "from sklearn.compose import make_column_transformer\n",
    "from sklearn.pipeline import make_pipeline\n",
    "from sklearn.metrics import mean_squared_error, r2_score, mean_absolute_error\n",
    "\n",
    "\n",
    "# Split the data into training and testing sets - (SW, NW, W1, KT, N1, E1)\n",
    "X = df2[['House Type', 'Area in sq ft', 'No. of Bedrooms', 'City/County','Postcode 2']]\n",
    "y = df2['Price (million)']\n",
    "X_train, X_test, y_train, y_test = train_test_split(X, y, test_size=0.2, random_state=42)\n",
    "\n",
    "# Create a column transformer to encode categorical variables\n",
    "cat_cols = ['House Type', 'City/County','Postcode 2']\n",
    "cat_transformer = make_pipeline(OneHotEncoder(handle_unknown='ignore'))\n",
    "preprocessor = make_column_transformer((cat_transformer, cat_cols), remainder='passthrough')\n",
    "\n",
    "# Fit the linear regression model with column transformer\n",
    "model = make_pipeline(preprocessor, LinearRegression())\n",
    "model.fit(X_train, y_train)\n",
    "\n",
    "# Make predictions on the test set\n",
    "y_pred = model.predict(X_test)\n",
    "\n",
    "# Evaluate the model performance\n",
    "mse = mean_squared_error(y_test, y_pred)\n",
    "r2 = r2_score(y_test, y_pred)\n",
    "mae = mean_absolute_error(y_test, y_pred)\n",
    "\n",
    "print(\"R-squared: {:.2f}\".format(r2))  # the higher the better \n",
    "print(\"Mean squared error: {:.2f}\".format(mse))\n",
    "print(\"Mean absolute error: {:.2f}\".format(mae))\n"
   ]
  },
  {
   "cell_type": "code",
   "execution_count": 678,
   "id": "761af2f8",
   "metadata": {
    "scrolled": true
   },
   "outputs": [
    {
     "data": {
      "image/png": "[encoded data removed]",
      "text/plain": [
       "<Figure size 640x480 with 1 Axes>"
      ]
     },
     "metadata": {},
     "output_type": "display_data"
    }
   ],
   "source": [
    "import matplotlib.pyplot as plt\n",
    "\n",
    "# Create a scatter plot of actual vs predicted prices\n",
    "plt.scatter(y_test, y_pred, alpha=0.5)\n",
    "\n",
    "# Add a line showing perfect predictions\n",
    "plt.plot([0, max(y_test)], [0, max(y_test)], '--', color='red')\n",
    "\n",
    "# Set the plot title and axis labels\n",
    "plt.title('Actual vs Predicted House Prices - Postcode= (SW, NW, W1, KT, N1, E1)')\n",
    "plt.xlabel('Actual Price (million)')\n",
    "plt.ylabel('Predicted Price (million)')\n",
    "\n",
    "# Show the plot\n",
    "plt.show()\n"
   ]
  },
  {
   "cell_type": "markdown",
   "id": "966ade8a",
   "metadata": {},
   "source": [
    "## KT"
   ]
  },
  {
   "cell_type": "code",
   "execution_count": 679,
   "id": "6c657b84",
   "metadata": {},
   "outputs": [
    {
     "name": "stdout",
     "output_type": "stream",
     "text": [
      "R-squared: 0.88\n",
      "Mean squared error: 0.06\n",
      "Mean absolute error: 0.18\n"
     ]
    }
   ],
   "source": [
    "# Split the data into training and testing sets - KT postcode \n",
    "X = df_kt[['House Type', 'Area in sq ft', 'No. of Bedrooms', 'City/County']]\n",
    "y = df_kt['Price (million)']\n",
    "X_train, X_test, y_train, y_test = train_test_split(X, y, test_size=0.2, random_state=42)\n",
    "\n",
    "# Create a column transformer to encode categorical variables\n",
    "cat_cols = ['House Type', 'City/County']\n",
    "cat_transformer = make_pipeline(OneHotEncoder(handle_unknown='ignore'))\n",
    "preprocessor = make_column_transformer((cat_transformer, cat_cols), remainder='passthrough')\n",
    "\n",
    "# Fit the linear regression model with column transformer\n",
    "model = make_pipeline(preprocessor, LinearRegression())\n",
    "model.fit(X_train, y_train)\n",
    "\n",
    "# Make predictions on the test set\n",
    "y_pred = model.predict(X_test)\n",
    "\n",
    "# Evaluate the model performance\n",
    "mse = mean_squared_error(y_test, y_pred)\n",
    "r2 = r2_score(y_test, y_pred)\n",
    "mae = mean_absolute_error(y_test, y_pred)\n",
    "\n",
    "print(\"R-squared: {:.2f}\".format(r2))  # the higher the better \n",
    "print(\"Mean squared error: {:.2f}\".format(mse))\n",
    "print(\"Mean absolute error: {:.2f}\".format(mae))\n"
   ]
  },
  {
   "cell_type": "code",
   "execution_count": 680,
   "id": "a50d61e8",
   "metadata": {
    "scrolled": true
   },
   "outputs": [
    {
     "data": {
      "image/png": "[encoded data removed]",
      "text/plain": [
       "<Figure size 640x480 with 1 Axes>"
      ]
     },
     "metadata": {},
     "output_type": "display_data"
    }
   ],
   "source": [
    "# Create a scatter plot of actual vs predicted prices\n",
    "plt.scatter(y_test, y_pred, alpha=0.5)\n",
    "\n",
    "# Add a line showing perfect predictions\n",
    "plt.plot([0, max(y_test)], [0, max(y_test)], '--', color='red')\n",
    "\n",
    "# Set the plot title and axis labels\n",
    "plt.title('Actual vs Predicted House Prices - Postcode=KT')\n",
    "plt.xlabel('Actual Price (million)')\n",
    "plt.ylabel('Predicted Price (million)')\n",
    "\n",
    "# Show the plot\n",
    "plt.show()"
   ]
  },
  {
   "cell_type": "markdown",
   "id": "949d82ed",
   "metadata": {},
   "source": [
    "## E1"
   ]
  },
  {
   "cell_type": "code",
   "execution_count": 681,
   "id": "e81b892b",
   "metadata": {},
   "outputs": [
    {
     "name": "stdout",
     "output_type": "stream",
     "text": [
      "R-squared: 0.63\n",
      "Mean squared error: 0.11\n",
      "Mean absolute error: 0.22\n"
     ]
    }
   ],
   "source": [
    "# Split the data into training and testing sets - E1 postcode \n",
    "X = df_e1[['House Type', 'Area in sq ft', 'No. of Bedrooms', 'City/County']]\n",
    "y = df_e1['Price (million)']\n",
    "X_train, X_test, y_train, y_test = train_test_split(X, y, test_size=0.2, random_state=42)\n",
    "\n",
    "# Create a column transformer to encode categorical variables\n",
    "cat_cols = ['House Type', 'City/County']\n",
    "cat_transformer = make_pipeline(OneHotEncoder(handle_unknown='ignore'))\n",
    "preprocessor = make_column_transformer((cat_transformer, cat_cols), remainder='passthrough')\n",
    "\n",
    "# Fit the linear regression model with column transformer\n",
    "model = make_pipeline(preprocessor, LinearRegression())\n",
    "model.fit(X_train, y_train)\n",
    "\n",
    "# Make predictions on the test set\n",
    "y_pred = model.predict(X_test)\n",
    "\n",
    "# Evaluate the model performance\n",
    "mse = mean_squared_error(y_test, y_pred)\n",
    "r2 = r2_score(y_test, y_pred)\n",
    "mae = mean_absolute_error(y_test, y_pred)\n",
    "\n",
    "print(\"R-squared: {:.2f}\".format(r2))  # the higher the better \n",
    "print(\"Mean squared error: {:.2f}\".format(mse))\n",
    "print(\"Mean absolute error: {:.2f}\".format(mae))"
   ]
  },
  {
   "cell_type": "code",
   "execution_count": 682,
   "id": "a7e750e1",
   "metadata": {
    "scrolled": true
   },
   "outputs": [
    {
     "data": {
      "image/png": "[encoded data removed]",
      "text/plain": [
       "<Figure size 640x480 with 1 Axes>"
      ]
     },
     "metadata": {},
     "output_type": "display_data"
    }
   ],
   "source": [
    "# Create a scatter plot of actual vs predicted prices\n",
    "plt.scatter(y_test, y_pred, alpha=0.5)\n",
    "\n",
    "# Add a line showing perfect predictions\n",
    "plt.plot([0, max(y_test)], [0, max(y_test)], '--', color='red')\n",
    "\n",
    "# Set the plot title and axis labels\n",
    "plt.title('Actual vs Predicted House Prices - Postcode=E1')\n",
    "plt.xlabel('Actual Price (million)')\n",
    "plt.ylabel('Predicted Price (million)')\n",
    "\n",
    "# Show the plot\n",
    "plt.show()"
   ]
  },
  {
   "cell_type": "markdown",
   "id": "c9ef113c",
   "metadata": {},
   "source": [
    "## N1 "
   ]
  },
  {
   "cell_type": "code",
   "execution_count": 683,
   "id": "22354b43",
   "metadata": {},
   "outputs": [
    {
     "name": "stdout",
     "output_type": "stream",
     "text": [
      "R-squared: 0.94\n",
      "Mean squared error: 0.06\n",
      "Mean absolute error: 0.18\n"
     ]
    }
   ],
   "source": [
    "# Split the data into training and testing sets - N1 postcode \n",
    "X = df_n1[['House Type', 'Area in sq ft', 'No. of Bedrooms', 'City/County']]\n",
    "y = df_n1['Price (million)']\n",
    "X_train, X_test, y_train, y_test = train_test_split(X, y, test_size=0.2, random_state=42)\n",
    "\n",
    "# Create a column transformer to encode categorical variables\n",
    "cat_cols = ['House Type', 'City/County']\n",
    "cat_transformer = make_pipeline(OneHotEncoder(handle_unknown='ignore'))\n",
    "preprocessor = make_column_transformer((cat_transformer, cat_cols), remainder='passthrough')\n",
    "\n",
    "# Fit the linear regression model with column transformer\n",
    "model = make_pipeline(preprocessor, LinearRegression())\n",
    "model.fit(X_train, y_train)\n",
    "\n",
    "# Make predictions on the test set\n",
    "y_pred = model.predict(X_test)\n",
    "\n",
    "# Evaluate the model performance\n",
    "mse = mean_squared_error(y_test, y_pred)\n",
    "r2 = r2_score(y_test, y_pred)\n",
    "mae = mean_absolute_error(y_test, y_pred)\n",
    "\n",
    "print(\"R-squared: {:.2f}\".format(r2))  # the higher the better \n",
    "print(\"Mean squared error: {:.2f}\".format(mse))\n",
    "print(\"Mean absolute error: {:.2f}\".format(mae))"
   ]
  },
  {
   "cell_type": "code",
   "execution_count": 684,
   "id": "f240060d",
   "metadata": {
    "scrolled": true
   },
   "outputs": [
    {
     "data": {
      "image/png": "[encoded data removed]",
      "text/plain": [
       "<Figure size 640x480 with 1 Axes>"
      ]
     },
     "metadata": {},
     "output_type": "display_data"
    }
   ],
   "source": [
    "# Create a scatter plot of actual vs predicted prices\n",
    "plt.scatter(y_test, y_pred, alpha=0.5)\n",
    "\n",
    "# Add a line showing perfect predictions\n",
    "plt.plot([0, max(y_test)], [0, max(y_test)], '--', color='red')\n",
    "\n",
    "# Set the plot title and axis labels\n",
    "plt.title('Actual vs Predicted House Prices - Postcode=N1')\n",
    "plt.xlabel('Actual Price (million)')\n",
    "plt.ylabel('Predicted Price (million)')\n",
    "\n",
    "# Show the plot\n",
    "plt.show()"
   ]
  },
  {
   "cell_type": "markdown",
   "id": "11991e3e",
   "metadata": {},
   "source": [
    "## NW"
   ]
  },
  {
   "cell_type": "code",
   "execution_count": 685,
   "id": "33ad59a7",
   "metadata": {},
   "outputs": [
    {
     "name": "stdout",
     "output_type": "stream",
     "text": [
      "R-squared: 0.76\n",
      "Mean squared error: 1.27\n",
      "Mean absolute error: 0.64\n"
     ]
    }
   ],
   "source": [
    "# Split the data into training and testing sets - NW postcode \n",
    "X = df_nw[['House Type', 'Area in sq ft', 'No. of Bedrooms', 'City/County']]\n",
    "y = df_nw['Price (million)']\n",
    "X_train, X_test, y_train, y_test = train_test_split(X, y, test_size=0.2, random_state=42)\n",
    "\n",
    "# Create a column transformer to encode categorical variables\n",
    "cat_cols = ['House Type', 'City/County']\n",
    "cat_transformer = make_pipeline(OneHotEncoder(handle_unknown='ignore'))\n",
    "preprocessor = make_column_transformer((cat_transformer, cat_cols), remainder='passthrough')\n",
    "\n",
    "# Fit the linear regression model with column transformer\n",
    "model = make_pipeline(preprocessor, LinearRegression())\n",
    "model.fit(X_train, y_train)\n",
    "\n",
    "# Make predictions on the test set\n",
    "y_pred = model.predict(X_test)\n",
    "\n",
    "# Evaluate the model performance\n",
    "mse = mean_squared_error(y_test, y_pred)\n",
    "r2 = r2_score(y_test, y_pred)\n",
    "mae = mean_absolute_error(y_test, y_pred)\n",
    "\n",
    "print(\"R-squared: {:.2f}\".format(r2))  # the higher the better \n",
    "print(\"Mean squared error: {:.2f}\".format(mse))\n",
    "print(\"Mean absolute error: {:.2f}\".format(mae))"
   ]
  },
  {
   "cell_type": "code",
   "execution_count": 686,
   "id": "bbc0c9a7",
   "metadata": {
    "scrolled": true
   },
   "outputs": [
    {
     "data": {
      "image/png": "[encoded data removed]",
      "text/plain": [
       "<Figure size 640x480 with 1 Axes>"
      ]
     },
     "metadata": {},
     "output_type": "display_data"
    }
   ],
   "source": [
    "# Create a scatter plot of actual vs predicted prices\n",
    "plt.scatter(y_test, y_pred, alpha=0.5)\n",
    "\n",
    "# Add a line showing perfect predictions\n",
    "plt.plot([0, max(y_test)], [0, max(y_test)], '--', color='red')\n",
    "\n",
    "# Set the plot title and axis labels\n",
    "plt.title('Actual vs Predicted House Prices - Postcode=NW')\n",
    "plt.xlabel('Actual Price (million)')\n",
    "plt.ylabel('Predicted Price (million)')\n",
    "\n",
    "# Show the plot\n",
    "plt.show()"
   ]
  },
  {
   "cell_type": "markdown",
   "id": "e320e895",
   "metadata": {},
   "source": [
    "## W1"
   ]
  },
  {
   "cell_type": "code",
   "execution_count": 687,
   "id": "c17e6c65",
   "metadata": {},
   "outputs": [
    {
     "name": "stdout",
     "output_type": "stream",
     "text": [
      "R-squared: 0.73\n",
      "Mean squared error: 1.51\n",
      "Mean absolute error: 0.94\n"
     ]
    }
   ],
   "source": [
    "# Split the data into training and testing sets - W1 postcode \n",
    "X = df_w1[['House Type', 'Area in sq ft', 'No. of Bedrooms', 'City/County']]\n",
    "y = df_w1['Price (million)']\n",
    "X_train, X_test, y_train, y_test = train_test_split(X, y, test_size=0.2, random_state=42)\n",
    "\n",
    "# Create a column transformer to encode categorical variables\n",
    "cat_cols = ['House Type', 'City/County']\n",
    "cat_transformer = make_pipeline(OneHotEncoder(handle_unknown='ignore'))\n",
    "preprocessor = make_column_transformer((cat_transformer, cat_cols), remainder='passthrough')\n",
    "\n",
    "# Fit the linear regression model with column transformer\n",
    "model = make_pipeline(preprocessor, LinearRegression())\n",
    "model.fit(X_train, y_train)\n",
    "\n",
    "# Make predictions on the test set\n",
    "y_pred = model.predict(X_test)\n",
    "\n",
    "# Evaluate the model performance\n",
    "mse = mean_squared_error(y_test, y_pred)\n",
    "r2 = r2_score(y_test, y_pred)\n",
    "mae = mean_absolute_error(y_test, y_pred)\n",
    "\n",
    "print(\"R-squared: {:.2f}\".format(r2))  # the higher the better \n",
    "print(\"Mean squared error: {:.2f}\".format(mse))\n",
    "print(\"Mean absolute error: {:.2f}\".format(mae))"
   ]
  },
  {
   "cell_type": "code",
   "execution_count": 688,
   "id": "a6dae201",
   "metadata": {
    "scrolled": true
   },
   "outputs": [
    {
     "data": {
      "image/png": "[encoded data removed]",
      "text/plain": [
       "<Figure size 640x480 with 1 Axes>"
      ]
     },
     "metadata": {},
     "output_type": "display_data"
    }
   ],
   "source": [
    "# Create a scatter plot of actual vs predicted prices \n",
    "plt.scatter(y_test, y_pred, alpha=0.5)\n",
    "\n",
    "# Add a line showing perfect predictions\n",
    "plt.plot([0, max(y_test)], [0, max(y_test)], '--', color='red')\n",
    "\n",
    "# Set the plot title and axis labels\n",
    "plt.title('Actual vs Predicted House Prices - Postcode=W1')\n",
    "plt.xlabel('Actual Price (million)')\n",
    "plt.ylabel('Predicted Price (million)')\n",
    "\n",
    "# Show the plot\n",
    "plt.show()"
   ]
  },
  {
   "cell_type": "markdown",
   "id": "d18afd8e",
   "metadata": {},
   "source": [
    "## SW"
   ]
  },
  {
   "cell_type": "code",
   "execution_count": 689,
   "id": "e008cc86",
   "metadata": {},
   "outputs": [
    {
     "name": "stdout",
     "output_type": "stream",
     "text": [
      "R-squared: 0.59\n",
      "Mean squared error: 0.69\n",
      "Mean absolute error: 0.54\n"
     ]
    }
   ],
   "source": [
    "# Split the data into training and testing sets - SW postcode \n",
    "X = df_sw[['House Type', 'Area in sq ft', 'No. of Bedrooms', 'City/County']]\n",
    "y = df_sw['Price (million)']\n",
    "X_train, X_test, y_train, y_test = train_test_split(X, y, test_size=0.2, random_state=42)\n",
    "\n",
    "# Create a column transformer to encode categorical variables\n",
    "cat_cols = ['House Type', 'City/County']\n",
    "cat_transformer = make_pipeline(OneHotEncoder(handle_unknown='ignore'))\n",
    "preprocessor = make_column_transformer((cat_transformer, cat_cols), remainder='passthrough')\n",
    "\n",
    "# Fit the linear regression model with column transformer\n",
    "model = make_pipeline(preprocessor, LinearRegression())\n",
    "model.fit(X_train, y_train)\n",
    "\n",
    "# Make predictions on the test set\n",
    "y_pred = model.predict(X_test)\n",
    "\n",
    "# Evaluate the model performance\n",
    "mse = mean_squared_error(y_test, y_pred)\n",
    "r2 = r2_score(y_test, y_pred)\n",
    "mae = mean_absolute_error(y_test, y_pred)\n",
    "\n",
    "print(\"R-squared: {:.2f}\".format(r2))  # the higher the better \n",
    "print(\"Mean squared error: {:.2f}\".format(mse))\n",
    "print(\"Mean absolute error: {:.2f}\".format(mae))"
   ]
  },
  {
   "cell_type": "code",
   "execution_count": 690,
   "id": "fa982b7f",
   "metadata": {
    "scrolled": false
   },
   "outputs": [
    {
     "data": {
      "image/png": "[encoded data removed]",
      "text/plain": [
       "<Figure size 640x480 with 1 Axes>"
      ]
     },
     "metadata": {},
     "output_type": "display_data"
    }
   ],
   "source": [
    "# Create a scatter plot of actual vs predicted prices\n",
    "plt.scatter(y_test, y_pred, alpha=0.5)\n",
    "\n",
    "# Add a line showing perfect predictions\n",
    "plt.plot([0, max(y_test)], [0, max(y_test)], '--', color='red')\n",
    "\n",
    "# Set the plot title and axis labels\n",
    "plt.title('Actual vs Predicted House Prices - Postcode=SW')\n",
    "plt.xlabel('Actual Price (million)')\n",
    "plt.ylabel('Predicted Price (million)')\n",
    "\n",
    "# Show the plot\n",
    "plt.show()"
   ]
  },
  {
   "cell_type": "markdown",
   "id": "b9ead0e3",
   "metadata": {},
   "source": [
    "## Conclusion "
   ]
  },
  {
   "cell_type": "markdown",
   "id": "c3ef6dc3",
   "metadata": {},
   "source": [
    "1.  We see that increasing no. of bedrooms of a property equals an increase in house price\n",
    "2. We see that 'Penthouse' is the most expensive house type on average and studio apartments are the cheapest on average\n",
    "3. We see that an increase in area of the property equals an increase in house price. \n",
    "4. We see that West London houses are more expensive. East London houses are cheaper.\n",
    "5. We see that that house prices increa with Area of house in all regions of london, however this correlation is stronger in certian areas of london then in others.  \n",
    "6. We see that our abilty to predict house prices based on our dataset features varies depending on the region of london."
   ]
  },
  {
   "cell_type": "markdown",
   "id": "ddb4607b",
   "metadata": {},
   "source": [
    "Note: We will add to this notebook by doing more analysis in the future."
   ]
  }
 ],
 "metadata": {
  "kernelspec": {
   "display_name": "Python 3 (ipykernel)",
   "language": "python",
   "name": "python3"
  },
  "language_info": {
   "codemirror_mode": {
    "name": "ipython",
    "version": 3
   },
   "file_extension": ".py",
   "mimetype": "text/x-python",
   "name": "python",
   "nbconvert_exporter": "python",
   "pygments_lexer": "ipython3",
   "version": "3.9.13"
  }
 },
 "nbformat": 4,
 "nbformat_minor": 5
}
